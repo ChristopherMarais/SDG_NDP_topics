{
 "cells": [
  {
   "cell_type": "markdown",
   "id": "b4227ea0-4f31-48a8-b1f6-4361be4983bd",
   "metadata": {},
   "source": [
    "## Install packages"
   ]
  },
  {
   "cell_type": "code",
   "execution_count": 1,
   "id": "32c6c104-81b1-44d5-9960-10323d3cd54c",
   "metadata": {
    "execution": {
     "iopub.execute_input": "2022-09-29T16:58:24.180962Z",
     "iopub.status.busy": "2022-09-29T16:58:24.180962Z",
     "iopub.status.idle": "2022-09-29T16:58:24.200461Z",
     "shell.execute_reply": "2022-09-29T16:58:24.198960Z",
     "shell.execute_reply.started": "2022-09-29T16:58:24.180962Z"
    }
   },
   "outputs": [],
   "source": [
    "# # install packages in following order\n",
    "# !pip install pandas\n",
    "# !pip install spacy\n",
    "# !python -m spacy download en_core_web_trf\n",
    "# !python -m spacy download en_core_web_sm\n",
    "# !pip install crosslingual-coreference\n",
    "# !pip install ipywidgets\n",
    "# !pip uninstall torch\n",
    "# !conda install pytorch torchvision torchaudio cudatoolkit=11.6 -c pytorch -c conda-forge\n",
    "# !pip install spacyfishing"
   ]
  },
  {
   "cell_type": "code",
   "execution_count": 2,
   "id": "f0062c3b-6783-4fa8-b754-403d2f7300f0",
   "metadata": {
    "execution": {
     "iopub.execute_input": "2022-09-29T16:58:24.203460Z",
     "iopub.status.busy": "2022-09-29T16:58:24.203460Z",
     "iopub.status.idle": "2022-09-29T16:58:29.172584Z",
     "shell.execute_reply": "2022-09-29T16:58:29.172082Z",
     "shell.execute_reply.started": "2022-09-29T16:58:24.203460Z"
    },
    "tags": []
   },
   "outputs": [
    {
     "name": "stderr",
     "output_type": "stream",
     "text": [
      "[nltk_data] Downloading package omw-1.4 to\n",
      "[nltk_data]     C:\\Users\\GCM\\AppData\\Roaming\\nltk_data...\n",
      "[nltk_data]   Package omw-1.4 is already up-to-date!\n"
     ]
    }
   ],
   "source": [
    "import spacy\n",
    "import crosslingual_coreference\n",
    "import pandas as pd"
   ]
  },
  {
   "cell_type": "markdown",
   "id": "467dc40a-1959-45de-922c-4d2b1c803984",
   "metadata": {},
   "source": [
    "## Import Data"
   ]
  },
  {
   "cell_type": "markdown",
   "id": "ba36aa5a-8654-4de7-9c84-5eb9234bef90",
   "metadata": {},
   "source": [
    "Data was obtained by exporting a csv from scopus. This includes abstracts of all articles."
   ]
  },
  {
   "cell_type": "code",
   "execution_count": 3,
   "id": "3b0620a2-ab81-4488-bb23-f8790ea56f9c",
   "metadata": {
    "execution": {
     "iopub.execute_input": "2022-09-29T16:58:29.174583Z",
     "iopub.status.busy": "2022-09-29T16:58:29.174084Z",
     "iopub.status.idle": "2022-09-29T16:58:29.901583Z",
     "shell.execute_reply": "2022-09-29T16:58:29.900582Z",
     "shell.execute_reply.started": "2022-09-29T16:58:29.174084Z"
    },
    "tags": []
   },
   "outputs": [],
   "source": [
    "# import data\n",
    "data_df = pd.read_csv('E:\\GIT_REPOS\\LAB\\Literature_summary\\Papers\\\\scopus_bark_ambrosia_beetles.csv')"
   ]
  },
  {
   "cell_type": "markdown",
   "id": "979d53a2-1b4b-4894-b9a8-2d7332fde82f",
   "metadata": {},
   "source": [
    "## Coreference resolution"
   ]
  },
  {
   "cell_type": "code",
   "execution_count": 4,
   "id": "ef2355e9-b9f1-4fa5-b23c-835a58e6149a",
   "metadata": {
    "execution": {
     "iopub.execute_input": "2022-09-29T16:58:29.903083Z",
     "iopub.status.busy": "2022-09-29T16:58:29.902584Z",
     "iopub.status.idle": "2022-09-29T16:58:50.351530Z",
     "shell.execute_reply": "2022-09-29T16:58:50.350527Z",
     "shell.execute_reply.started": "2022-09-29T16:58:29.903083Z"
    },
    "tags": []
   },
   "outputs": [
    {
     "name": "stderr",
     "output_type": "stream",
     "text": [
      "error loading _jsonnet (this is expected on Windows), treating C:\\Users\\GCM\\AppData\\Local\\Temp\\tmpr2dr5je7\\config.json as plain json\n",
      "Some weights of the model checkpoint at nreimers/mMiniLMv2-L12-H384-distilled-from-XLMR-Large were not used when initializing XLMRobertaModel: ['lm_head.bias', 'lm_head.dense.weight', 'lm_head.layer_norm.weight', 'lm_head.dense.bias', 'lm_head.layer_norm.bias']\n",
      "- This IS expected if you are initializing XLMRobertaModel from the checkpoint of a model trained on another task or with another architecture (e.g. initializing a BertForSequenceClassification model from a BertForPreTraining model).\n",
      "- This IS NOT expected if you are initializing XLMRobertaModel from the checkpoint of a model that you expect to be exactly identical (initializing a BertForSequenceClassification model from a BertForSequenceClassification model).\n",
      "Some weights of XLMRobertaModel were not initialized from the model checkpoint at nreimers/mMiniLMv2-L12-H384-distilled-from-XLMR-Large and are newly initialized: ['roberta.pooler.dense.weight', 'roberta.pooler.dense.bias']\n",
      "You should probably TRAIN this model on a down-stream task to be able to use it for predictions and inference.\n"
     ]
    }
   ],
   "source": [
    "# crosslingual_coreference implementation\n",
    "nlp = spacy.load('en_core_web_trf')\n",
    "nlp.add_pipe(\"xx_coref\", config={\"chunk_size\": 2500, \"chunk_overlap\": 2, \"device\": 0})\n",
    "\n",
    "def coref_res(text_series):\n",
    "    coref_text_series = text_series.apply(lambda x : nlp(x)._.resolved_text)\n",
    "    return(coref_text_series)\n",
    "\n",
    "# # choose minilm for speed/memory and info_xlm for accuracy\n",
    "# predictor = Predictor(\n",
    "#     language=\"en_core_web_sm\", device=-1, model_name=\"minilm\"\n",
    "# )"
   ]
  },
  {
   "cell_type": "code",
   "execution_count": 5,
   "id": "59884505-977e-478f-bc71-d1130c4be1cd",
   "metadata": {
    "execution": {
     "iopub.execute_input": "2022-09-29T16:58:50.353029Z",
     "iopub.status.busy": "2022-09-29T16:58:50.352530Z",
     "iopub.status.idle": "2022-09-29T16:59:45.361028Z",
     "shell.execute_reply": "2022-09-29T16:59:45.360032Z",
     "shell.execute_reply.started": "2022-09-29T16:58:50.353029Z"
    },
    "tags": []
   },
   "outputs": [],
   "source": [
    "coref_df = pd.DataFrame(coref_res(text_series=data_df[\"Abstract\"][:10]))"
   ]
  },
  {
   "cell_type": "markdown",
   "id": "f500a959-122e-47f0-ab37-32c20a0a3636",
   "metadata": {},
   "source": [
    "## Entity labelling"
   ]
  },
  {
   "cell_type": "code",
   "execution_count": 6,
   "id": "c9f7f9d9-8f4a-4dc3-87df-b4af1bfe67fa",
   "metadata": {
    "execution": {
     "iopub.execute_input": "2022-09-29T16:59:45.363029Z",
     "iopub.status.busy": "2022-09-29T16:59:45.362528Z",
     "iopub.status.idle": "2022-09-29T16:59:48.275029Z",
     "shell.execute_reply": "2022-09-29T16:59:48.274027Z",
     "shell.execute_reply.started": "2022-09-29T16:59:45.362528Z"
    },
    "tags": []
   },
   "outputs": [],
   "source": [
    "nlp_model_en = spacy.load(\"en_core_web_trf\")\n",
    "nlp_model_en.add_pipe(\"entityfishing\")\n",
    "\n",
    "def link_entities_text(text):\n",
    "    text_entities = nlp_model_en(text)\n",
    "    entity_df = pd.DataFrame()\n",
    "    text_lst = []\n",
    "    label_lst = []\n",
    "    kb_qid_lst = []\n",
    "    url_wikidata = []\n",
    "    nerd_score = []\n",
    "    for entity in text_entities.ents:\n",
    "        text_lst.append(entity.text)\n",
    "        label_lst.append(entity.label_)\n",
    "        kb_qid_lst.append(entity._.kb_qid)\n",
    "        url_wikidata.append(entity._.url_wikidata)\n",
    "        nerd_score.append(entity._.nerd_score)\n",
    "    entity_df['text'] = text_lst\n",
    "    entity_df['label'] = label_lst\n",
    "    entity_df['kb_qid'] = kb_qid_lst\n",
    "    entity_df['url_wikidata'] = url_wikidata\n",
    "    entity_df['nerd_score'] = nerd_score\n",
    "    return(entity_df)\n",
    "\n",
    "def link_entities(text_series):\n",
    "    entity_df_series = text_series.apply(lambda x : link_entities_text(x))\n",
    "    return(entity_df_series)"
   ]
  },
  {
   "cell_type": "code",
   "execution_count": 7,
   "id": "eb0041b0-3739-49d3-ad63-0d02a696026c",
   "metadata": {
    "execution": {
     "iopub.execute_input": "2022-09-29T16:59:48.278032Z",
     "iopub.status.busy": "2022-09-29T16:59:48.277530Z",
     "iopub.status.idle": "2022-09-29T17:00:09.925452Z",
     "shell.execute_reply": "2022-09-29T17:00:09.924451Z",
     "shell.execute_reply.started": "2022-09-29T16:59:48.277530Z"
    },
    "tags": []
   },
   "outputs": [],
   "source": [
    "entity_df_lst = link_entities(text_series = coref_df['Abstract']).tolist()\n",
    "all_entities_df = pd.concat(entity_df_lst).reset_index(drop=True)"
   ]
  },
  {
   "cell_type": "code",
   "execution_count": 8,
   "id": "ed6c3595-b391-42cf-a198-f1a917fa81b9",
   "metadata": {
    "execution": {
     "iopub.execute_input": "2022-09-29T17:00:09.926454Z",
     "iopub.status.busy": "2022-09-29T17:00:09.926454Z",
     "iopub.status.idle": "2022-09-29T17:00:09.941955Z",
     "shell.execute_reply": "2022-09-29T17:00:09.939959Z",
     "shell.execute_reply.started": "2022-09-29T17:00:09.926454Z"
    },
    "tags": []
   },
   "outputs": [],
   "source": [
    "# clean entities\n",
    "all_entities_df.sort_values(by='nerd_score',ascending=False, inplace=True)\n",
    "all_entities_df = all_entities_df[all_entities_df['kb_qid'].notna()].reset_index(drop=True)"
   ]
  },
  {
   "cell_type": "code",
   "execution_count": 9,
   "id": "397a24ca-c2bd-4dcb-92e3-2534e8cbf0e5",
   "metadata": {
    "execution": {
     "iopub.execute_input": "2022-09-29T17:00:09.944954Z",
     "iopub.status.busy": "2022-09-29T17:00:09.944453Z",
     "iopub.status.idle": "2022-09-29T17:00:10.389498Z",
     "shell.execute_reply": "2022-09-29T17:00:10.388497Z",
     "shell.execute_reply.started": "2022-09-29T17:00:09.944954Z"
    },
    "tags": []
   },
   "outputs": [
    {
     "data": {
      "text/plain": [
       "array(['GPE', 'ORG', 'LOC', 'NORP', 'DATE', 'CARDINAL'], dtype=object)"
      ]
     },
     "execution_count": 9,
     "metadata": {},
     "output_type": "execute_result"
    }
   ],
   "source": [
    "all_entities_df['label'].unique()"
   ]
  },
  {
   "cell_type": "code",
   "execution_count": 21,
   "id": "eca55a3b-7ff3-4b98-9a0d-351ae22f84a9",
   "metadata": {
    "execution": {
     "iopub.execute_input": "2022-09-29T17:05:49.361196Z",
     "iopub.status.busy": "2022-09-29T17:05:49.360695Z",
     "iopub.status.idle": "2022-09-29T17:05:49.382697Z",
     "shell.execute_reply": "2022-09-29T17:05:49.381194Z",
     "shell.execute_reply.started": "2022-09-29T17:05:49.360695Z"
    },
    "tags": []
   },
   "outputs": [],
   "source": [
    "count_entities_df = all_entities_df[['kb_qid', 'text', 'label', 'url_wikidata']]\n",
    "count_entities_df['count'] = 1\n",
    "count_entities_df = count_entities_df.groupby(['kb_qid', 'text', 'label', 'url_wikidata'], as_index=False).count()\n",
    "count_entities_df = count_entities_df.sort_values('count', ascending=False).reset_index(drop=True)"
   ]
  },
  {
   "cell_type": "code",
   "execution_count": 22,
   "id": "427eea9f-8162-4bb9-a0a0-33e8e84c1dbb",
   "metadata": {
    "execution": {
     "iopub.execute_input": "2022-09-29T17:05:50.150372Z",
     "iopub.status.busy": "2022-09-29T17:05:50.149869Z",
     "iopub.status.idle": "2022-09-29T17:05:50.308868Z",
     "shell.execute_reply": "2022-09-29T17:05:50.307867Z",
     "shell.execute_reply.started": "2022-09-29T17:05:50.150372Z"
    },
    "tags": []
   },
   "outputs": [
    {
     "data": {
      "text/plain": [
       "<AxesSubplot: >"
      ]
     },
     "execution_count": 22,
     "metadata": {},
     "output_type": "execute_result"
    },
    {
     "data": {
      "image/png": "[encoded data removed]",
      "text/plain": [
       "<Figure size 640x480 with 1 Axes>"
      ]
     },
     "metadata": {},
     "output_type": "display_data"
    }
   ],
   "source": [
    "count_entities_df['count'].hist()"
   ]
  },
  {
   "cell_type": "code",
   "execution_count": 24,
   "id": "4571cfd5-08f5-4387-905c-b9a6d9c8941b",
   "metadata": {
    "execution": {
     "iopub.execute_input": "2022-09-29T17:06:03.314552Z",
     "iopub.status.busy": "2022-09-29T17:06:03.314050Z",
     "iopub.status.idle": "2022-09-29T17:06:03.340050Z",
     "shell.execute_reply": "2022-09-29T17:06:03.339050Z",
     "shell.execute_reply.started": "2022-09-29T17:06:03.314552Z"
    },
    "tags": []
   },
   "outputs": [
    {
     "data": {
      "text/html": [
       "<div>\n",
       "<style scoped>\n",
       "    .dataframe tbody tr th:only-of-type {\n",
       "        vertical-align: middle;\n",
       "    }\n",
       "\n",
       "    .dataframe tbody tr th {\n",
       "        vertical-align: top;\n",
       "    }\n",
       "\n",
       "    .dataframe thead th {\n",
       "        text-align: right;\n",
       "    }\n",
       "</style>\n",
       "<table border=\"1\" class=\"dataframe\">\n",
       "  <thead>\n",
       "    <tr style=\"text-align: right;\">\n",
       "      <th></th>\n",
       "      <th>kb_qid</th>\n",
       "      <th>text</th>\n",
       "      <th>label</th>\n",
       "      <th>url_wikidata</th>\n",
       "      <th>count</th>\n",
       "    </tr>\n",
       "  </thead>\n",
       "  <tbody>\n",
       "    <tr>\n",
       "      <th>0</th>\n",
       "      <td>Q148</td>\n",
       "      <td>China</td>\n",
       "      <td>GPE</td>\n",
       "      <td>https://www.wikidata.org/wiki/Q148</td>\n",
       "      <td>4</td>\n",
       "    </tr>\n",
       "    <tr>\n",
       "      <th>1</th>\n",
       "      <td>Q42824</td>\n",
       "      <td>Mato Grosso</td>\n",
       "      <td>GPE</td>\n",
       "      <td>https://www.wikidata.org/wiki/Q42824</td>\n",
       "      <td>1</td>\n",
       "    </tr>\n",
       "    <tr>\n",
       "      <th>2</th>\n",
       "      <td>Q7850</td>\n",
       "      <td>Chinese</td>\n",
       "      <td>NORP</td>\n",
       "      <td>https://www.wikidata.org/wiki/Q7850</td>\n",
       "      <td>1</td>\n",
       "    </tr>\n",
       "    <tr>\n",
       "      <th>3</th>\n",
       "      <td>Q746413</td>\n",
       "      <td>Elsevier B.V.</td>\n",
       "      <td>ORG</td>\n",
       "      <td>https://www.wikidata.org/wiki/Q746413</td>\n",
       "      <td>1</td>\n",
       "    </tr>\n",
       "    <tr>\n",
       "      <th>4</th>\n",
       "      <td>Q49</td>\n",
       "      <td>North American</td>\n",
       "      <td>NORP</td>\n",
       "      <td>https://www.wikidata.org/wiki/Q49</td>\n",
       "      <td>1</td>\n",
       "    </tr>\n",
       "    <tr>\n",
       "      <th>5</th>\n",
       "      <td>Q49</td>\n",
       "      <td>North America</td>\n",
       "      <td>LOC</td>\n",
       "      <td>https://www.wikidata.org/wiki/Q49</td>\n",
       "      <td>1</td>\n",
       "    </tr>\n",
       "    <tr>\n",
       "      <th>6</th>\n",
       "      <td>Q433574</td>\n",
       "      <td>Alta Floresta</td>\n",
       "      <td>GPE</td>\n",
       "      <td>https://www.wikidata.org/wiki/Q433574</td>\n",
       "      <td>1</td>\n",
       "    </tr>\n",
       "    <tr>\n",
       "      <th>7</th>\n",
       "      <td>Q1255792</td>\n",
       "      <td>Mountain</td>\n",
       "      <td>LOC</td>\n",
       "      <td>https://www.wikidata.org/wiki/Q1255792</td>\n",
       "      <td>1</td>\n",
       "    </tr>\n",
       "    <tr>\n",
       "      <th>8</th>\n",
       "      <td>Q2585125</td>\n",
       "      <td>British Society for Plant Pathology</td>\n",
       "      <td>ORG</td>\n",
       "      <td>https://www.wikidata.org/wiki/Q2585125</td>\n",
       "      <td>1</td>\n",
       "    </tr>\n",
       "    <tr>\n",
       "      <th>9</th>\n",
       "      <td>Q155</td>\n",
       "      <td>Brazil</td>\n",
       "      <td>GPE</td>\n",
       "      <td>https://www.wikidata.org/wiki/Q155</td>\n",
       "      <td>1</td>\n",
       "    </tr>\n",
       "    <tr>\n",
       "      <th>10</th>\n",
       "      <td>Q1261</td>\n",
       "      <td>Colorado</td>\n",
       "      <td>GPE</td>\n",
       "      <td>https://www.wikidata.org/wiki/Q1261</td>\n",
       "      <td>1</td>\n",
       "    </tr>\n",
       "  </tbody>\n",
       "</table>\n",
       "</div>"
      ],
      "text/plain": [
       "      kb_qid                                 text label  \\\n",
       "0       Q148                                China   GPE   \n",
       "1     Q42824                          Mato Grosso   GPE   \n",
       "2      Q7850                              Chinese  NORP   \n",
       "3    Q746413                        Elsevier B.V.   ORG   \n",
       "4        Q49                       North American  NORP   \n",
       "5        Q49                        North America   LOC   \n",
       "6    Q433574                        Alta Floresta   GPE   \n",
       "7   Q1255792                             Mountain   LOC   \n",
       "8   Q2585125  British Society for Plant Pathology   ORG   \n",
       "9       Q155                               Brazil   GPE   \n",
       "10     Q1261                             Colorado   GPE   \n",
       "\n",
       "                              url_wikidata  count  \n",
       "0       https://www.wikidata.org/wiki/Q148      4  \n",
       "1     https://www.wikidata.org/wiki/Q42824      1  \n",
       "2      https://www.wikidata.org/wiki/Q7850      1  \n",
       "3    https://www.wikidata.org/wiki/Q746413      1  \n",
       "4        https://www.wikidata.org/wiki/Q49      1  \n",
       "5        https://www.wikidata.org/wiki/Q49      1  \n",
       "6    https://www.wikidata.org/wiki/Q433574      1  \n",
       "7   https://www.wikidata.org/wiki/Q1255792      1  \n",
       "8   https://www.wikidata.org/wiki/Q2585125      1  \n",
       "9       https://www.wikidata.org/wiki/Q155      1  \n",
       "10     https://www.wikidata.org/wiki/Q1261      1  "
      ]
     },
     "execution_count": 24,
     "metadata": {},
     "output_type": "execute_result"
    }
   ],
   "source": [
    "count_entities_df[~count_entities_df['label'].isin(['DATE', 'CARDINAL'])].reset_index(drop=True)"
   ]
  },
  {
   "cell_type": "markdown",
   "id": "2d1d96ad-9f42-4857-b964-495567ac7226",
   "metadata": {},
   "source": [
    "## Entity linking"
   ]
  },
  {
   "cell_type": "code",
   "execution_count": 39,
   "id": "ccaa8d1d-5d48-4e79-8af7-d795ea687d0c",
   "metadata": {
    "execution": {
     "iopub.execute_input": "2022-09-29T18:13:27.227443Z",
     "iopub.status.busy": "2022-09-29T18:13:27.226943Z",
     "iopub.status.idle": "2022-09-29T18:13:34.079122Z",
     "shell.execute_reply": "2022-09-29T18:13:34.078120Z",
     "shell.execute_reply.started": "2022-09-29T18:13:27.227443Z"
    },
    "tags": []
   },
   "outputs": [
    {
     "data": {
      "text/plain": [
       "<spacy_component.RebelComponent at 0x15a19891130>"
      ]
     },
     "execution_count": 39,
     "metadata": {},
     "output_type": "execute_result"
    }
   ],
   "source": [
    "import spacy_component\n",
    "\n",
    "nlp_rebel = spacy.load(\"en_core_web_sm\", disable=['ner', 'lemmatizer', 'attribute_rules', 'tagger'])\n",
    "\n",
    "nlp_rebel.add_pipe(\"rebel\", config={\n",
    "    'device':0, # Number of the GPU, -1 if want to use CPU\n",
    "    'model_name':'Babelscape/rebel-large'} # Model used, will default to 'Babelscape/rebel-large' if not given\n",
    "    )"
   ]
  },
  {
   "cell_type": "code",
   "execution_count": null,
   "id": "7291bf92-aa86-40b7-8983-79b43627cbb2",
   "metadata": {
    "execution": {
     "iopub.execute_input": "2022-09-29T18:15:54.366197Z",
     "iopub.status.busy": "2022-09-29T18:15:54.365697Z"
    }
   },
   "outputs": [],
   "source": [
    "DEVICE = 0 # Number of the GPU, -1 if want to use CPU\n",
    "\n",
    "# Add coreference resolution model\n",
    "coref = spacy.load('en_core_web_sm', disable=['ner', 'tagger', 'parser', 'attribute_ruler', 'lemmatizer'])\n",
    "coref.add_pipe(\n",
    "    \"xx_coref\", config={\"chunk_size\": 2500, \"chunk_overlap\": 2, \"device\": DEVICE})\n",
    "\n",
    "# Define rel extraction model\n",
    "\n",
    "rel_ext = spacy.load('en_core_web_sm', disable=['ner', 'lemmatizer', 'attribute_rules', 'tagger'])\n",
    "rel_ext.add_pipe(\"rebel\", config={\n",
    "    'device':DEVICE, # Number of the GPU, -1 if want to use CPU\n",
    "    'model_name':'Babelscape/rebel-large'} # Model used, will default to 'Babelscape/rebel-large' if not given\n",
    "    )"
   ]
  },
  {
   "cell_type": "code",
   "execution_count": null,
   "id": "c737d6f3-a1a1-416f-befd-2a558ab31b03",
   "metadata": {},
   "outputs": [],
   "source": [
    "input_text = \"Christian Drosten works in Germany. He likes to work for Google.\"\n",
    "\n",
    "coref_text = coref(input_text)._.resolved_text\n",
    "\n",
    "doc = rel_ext(coref_text)\n",
    "\n",
    "for value, rel_dict in doc._.rel.items():\n",
    "    print(f\"{value}: {rel_dict}\")"
   ]
  },
  {
   "cell_type": "code",
   "execution_count": null,
   "id": "bb0783bd-1f1b-4161-a41d-57c4cdd694de",
   "metadata": {},
   "outputs": [],
   "source": []
  },
  {
   "cell_type": "code",
   "execution_count": null,
   "id": "0b1c47a0-7a43-4445-b11f-27e681a08ecd",
   "metadata": {},
   "outputs": [],
   "source": []
  },
  {
   "cell_type": "code",
   "execution_count": 40,
   "id": "cbe1afcf-dab8-4deb-8fc4-a2c1b2e48ed9",
   "metadata": {
    "execution": {
     "iopub.execute_input": "2022-09-29T18:13:34.081121Z",
     "iopub.status.busy": "2022-09-29T18:13:34.080620Z",
     "iopub.status.idle": "2022-09-29T18:13:34.094626Z",
     "shell.execute_reply": "2022-09-29T18:13:34.093620Z",
     "shell.execute_reply.started": "2022-09-29T18:13:34.081121Z"
    },
    "tags": []
   },
   "outputs": [],
   "source": [
    "input_sentence = \"Gràcia is a district of the city of Barcelona, Spain. It comprises the neighborhoods of Vila de Gràcia, Vallcarca i els Penitents, El Coll, La Salut and Camp d'en Grassot i Gràcia Nova. Gràcia is bordered by the districts of Eixample to the south, Sarrià-Sant Gervasi to the west and Horta-Guinardó to the east. A vibrant and diverse enclave of Catalan life, Gràcia was an independent municipality for centuries before being formally annexed by Barcelona in 1897 as a part of the city's expansion.\" \n",
    "\n",
    "\n",
    "nlp = spacy.load('en_core_web_sm')\n",
    "nlp.add_pipe(\"xx_coref\", config={\"chunk_size\": 2500, \"chunk_overlap\": 2, \"device\": 0})\n",
    "coref_text = coref(input_text)._.resolved_text\n",
    "\n",
    "\n",
    "nlp_rebel = spacy.load(\"en_core_web_sm\", disable=['ner', 'lemmatizer', 'attribute_rules', 'tagger'])\n",
    "\n",
    "nlp_rebel.add_pipe(\"rebel\", config={\n",
    "    'device':0, # Number of the GPU, -1 if want to use CPU\n",
    "    'model_name':'Babelscape/rebel-large'} # Model used, will default to 'Babelscape/rebel-large' if not given\n",
    "    )\n",
    "\n",
    "\n",
    "# doc = nlp_rebel(input_sentence)\n",
    "doc_list = nlp_rebel.pipe([input_sentence])\n",
    "# for value, rel_dict in doc_list._.rel.items():\n",
    "#     print(f\"{value}: {rel_dict}\")"
   ]
  },
  {
   "cell_type": "code",
   "execution_count": 41,
   "id": "95246a73-5834-4d7e-b2da-176b7ec6506c",
   "metadata": {
    "execution": {
     "iopub.execute_input": "2022-09-29T18:13:34.096122Z",
     "iopub.status.busy": "2022-09-29T18:13:34.095623Z",
     "iopub.status.idle": "2022-09-29T18:13:40.510239Z",
     "shell.execute_reply": "2022-09-29T18:13:40.509236Z",
     "shell.execute_reply.started": "2022-09-29T18:13:34.096122Z"
    },
    "tags": []
   },
   "outputs": [
    {
     "ename": "TypeError",
     "evalue": "Can't convert {'output_ids': [[[0, 50267, 2974, 5269, 14555, 1437, 50266, 4612, 1437, 50265, 2034, 11, 5, 6833, 15752, 10014, 1437, 50266, 2809, 1437, 50265, 247, 1437, 50267, 4612, 1437, 50266, 2974, 5269, 14555, 1437, 50265, 6308, 6833, 15752, 10014, 1437, 50266, 2809, 1437, 50265, 247, 2]]]} to Sequence",
     "output_type": "error",
     "traceback": [
      "\u001b[1;31m---------------------------------------------------------------------------\u001b[0m",
      "\u001b[1;31mTypeError\u001b[0m                                 Traceback (most recent call last)",
      "Input \u001b[1;32mIn [41]\u001b[0m, in \u001b[0;36m<cell line: 1>\u001b[1;34m()\u001b[0m\n\u001b[1;32m----> 1\u001b[0m \u001b[38;5;28;43mlist\u001b[39;49m\u001b[43m(\u001b[49m\u001b[43mdoc_list\u001b[49m\u001b[43m)\u001b[49m\n",
      "File \u001b[1;32m~\\anaconda3\\envs\\kg\\lib\\site-packages\\spacy\\language.py:1583\u001b[0m, in \u001b[0;36mLanguage.pipe\u001b[1;34m(self, texts, as_tuples, batch_size, disable, component_cfg, n_process)\u001b[0m\n\u001b[0;32m   1581\u001b[0m     \u001b[38;5;28;01mfor\u001b[39;00m pipe \u001b[38;5;129;01min\u001b[39;00m pipes:\n\u001b[0;32m   1582\u001b[0m         docs \u001b[38;5;241m=\u001b[39m pipe(docs)\n\u001b[1;32m-> 1583\u001b[0m \u001b[38;5;28;01mfor\u001b[39;00m doc \u001b[38;5;129;01min\u001b[39;00m docs:\n\u001b[0;32m   1584\u001b[0m     \u001b[38;5;28;01myield\u001b[39;00m doc\n",
      "File \u001b[1;32m~\\anaconda3\\envs\\kg\\lib\\site-packages\\spacy\\util.py:1639\u001b[0m, in \u001b[0;36m_pipe\u001b[1;34m(docs, proc, name, default_error_handler, kwargs)\u001b[0m\n\u001b[0;32m   1631\u001b[0m \u001b[38;5;28;01mdef\u001b[39;00m \u001b[38;5;21m_pipe\u001b[39m(\n\u001b[0;32m   1632\u001b[0m     docs: Iterable[\u001b[38;5;124m\"\u001b[39m\u001b[38;5;124mDoc\u001b[39m\u001b[38;5;124m\"\u001b[39m],\n\u001b[0;32m   1633\u001b[0m     proc: \u001b[38;5;124m\"\u001b[39m\u001b[38;5;124mPipe\u001b[39m\u001b[38;5;124m\"\u001b[39m,\n\u001b[1;32m   (...)\u001b[0m\n\u001b[0;32m   1636\u001b[0m     kwargs: Mapping[\u001b[38;5;28mstr\u001b[39m, Any],\n\u001b[0;32m   1637\u001b[0m ) \u001b[38;5;241m-\u001b[39m\u001b[38;5;241m>\u001b[39m Iterator[\u001b[38;5;124m\"\u001b[39m\u001b[38;5;124mDoc\u001b[39m\u001b[38;5;124m\"\u001b[39m]:\n\u001b[0;32m   1638\u001b[0m     \u001b[38;5;28;01mif\u001b[39;00m \u001b[38;5;28mhasattr\u001b[39m(proc, \u001b[38;5;124m\"\u001b[39m\u001b[38;5;124mpipe\u001b[39m\u001b[38;5;124m\"\u001b[39m):\n\u001b[1;32m-> 1639\u001b[0m         \u001b[38;5;28;01myield from\u001b[39;00m proc\u001b[38;5;241m.\u001b[39mpipe(docs, \u001b[38;5;241m*\u001b[39m\u001b[38;5;241m*\u001b[39mkwargs)\n\u001b[0;32m   1640\u001b[0m     \u001b[38;5;28;01melse\u001b[39;00m:\n\u001b[0;32m   1641\u001b[0m         \u001b[38;5;66;03m# We added some args for pipe that __call__ doesn't expect.\u001b[39;00m\n\u001b[0;32m   1642\u001b[0m         kwargs \u001b[38;5;241m=\u001b[39m \u001b[38;5;28mdict\u001b[39m(kwargs)\n",
      "File \u001b[1;32mE:\\GIT_REPOS\\LAB\\Literature_summary\\Entity_linking\\spacy_component.py:175\u001b[0m, in \u001b[0;36mRebelComponent.pipe\u001b[1;34m(self, stream, batch_size)\u001b[0m\n\u001b[0;32m    173\u001b[0m \u001b[38;5;28;01mfor\u001b[39;00m doc \u001b[38;5;129;01min\u001b[39;00m docs:\n\u001b[0;32m    174\u001b[0m     sents \u001b[38;5;241m+\u001b[39m\u001b[38;5;241m=\u001b[39m doc\u001b[38;5;241m.\u001b[39msents\n\u001b[1;32m--> 175\u001b[0m sentence_triplets \u001b[38;5;241m=\u001b[39m \u001b[38;5;28;43mself\u001b[39;49m\u001b[38;5;241;43m.\u001b[39;49m\u001b[43m_generate_triplets\u001b[49m\u001b[43m(\u001b[49m\u001b[43msents\u001b[49m\u001b[43m)\u001b[49m\n\u001b[0;32m    176\u001b[0m index \u001b[38;5;241m=\u001b[39m \u001b[38;5;241m0\u001b[39m\n\u001b[0;32m    177\u001b[0m \u001b[38;5;28;01mfor\u001b[39;00m doc \u001b[38;5;129;01min\u001b[39;00m docs:\n",
      "File \u001b[1;32mE:\\GIT_REPOS\\LAB\\Literature_summary\\Entity_linking\\spacy_component.py:109\u001b[0m, in \u001b[0;36mRebelComponent._generate_triplets\u001b[1;34m(self, sents)\u001b[0m\n\u001b[0;32m     85\u001b[0m \u001b[38;5;124;03m\"\"\"\u001b[39;00m\n\u001b[0;32m     86\u001b[0m \u001b[38;5;124;03m1. We pass the text of the sentence to the triplet extractor.\u001b[39;00m\n\u001b[0;32m     87\u001b[0m \u001b[38;5;124;03m2. The triplet extractor returns a list of dictionaries.\u001b[39;00m\n\u001b[1;32m   (...)\u001b[0m\n\u001b[0;32m    104\u001b[0m \u001b[38;5;124;03m:return: A list of lists of dicts.\u001b[39;00m\n\u001b[0;32m    105\u001b[0m \u001b[38;5;124;03m\"\"\"\u001b[39;00m\n\u001b[0;32m    106\u001b[0m output_ids \u001b[38;5;241m=\u001b[39m \u001b[38;5;28mself\u001b[39m\u001b[38;5;241m.\u001b[39mtriplet_extractor(\n\u001b[0;32m    107\u001b[0m     [sent\u001b[38;5;241m.\u001b[39mtext \u001b[38;5;28;01mfor\u001b[39;00m sent \u001b[38;5;129;01min\u001b[39;00m sents], return_tensors\u001b[38;5;241m=\u001b[39m\u001b[38;5;28;01mTrue\u001b[39;00m, return_text\u001b[38;5;241m=\u001b[39m\u001b[38;5;28;01mFalse\u001b[39;00m\n\u001b[0;32m    108\u001b[0m )  \u001b[38;5;66;03m# [0][\"generated_token_ids\"]\u001b[39;00m\n\u001b[1;32m--> 109\u001b[0m extracted_texts \u001b[38;5;241m=\u001b[39m \u001b[38;5;28;43mself\u001b[39;49m\u001b[38;5;241;43m.\u001b[39;49m\u001b[43mtriplet_extractor\u001b[49m\u001b[38;5;241;43m.\u001b[39;49m\u001b[43mtokenizer\u001b[49m\u001b[38;5;241;43m.\u001b[39;49m\u001b[43mbatch_decode\u001b[49m\u001b[43m(\u001b[49m\n\u001b[0;32m    110\u001b[0m \u001b[43m    \u001b[49m\u001b[43m[\u001b[49m\u001b[43mout\u001b[49m\u001b[43m[\u001b[49m\u001b[38;5;124;43m\"\u001b[39;49m\u001b[38;5;124;43mgenerated_token_ids\u001b[39;49m\u001b[38;5;124;43m\"\u001b[39;49m\u001b[43m]\u001b[49m\u001b[43m \u001b[49m\u001b[38;5;28;43;01mfor\u001b[39;49;00m\u001b[43m \u001b[49m\u001b[43mout\u001b[49m\u001b[43m \u001b[49m\u001b[38;5;129;43;01min\u001b[39;49;00m\u001b[43m \u001b[49m\u001b[43moutput_ids\u001b[49m\u001b[43m]\u001b[49m\n\u001b[0;32m    111\u001b[0m \u001b[43m\u001b[49m\u001b[43m)\u001b[49m\n\u001b[0;32m    112\u001b[0m extracted_triplets \u001b[38;5;241m=\u001b[39m []\n\u001b[0;32m    113\u001b[0m \u001b[38;5;28;01mfor\u001b[39;00m text \u001b[38;5;129;01min\u001b[39;00m extracted_texts:\n",
      "File \u001b[1;32m~\\anaconda3\\envs\\kg\\lib\\site-packages\\transformers\\tokenization_utils_base.py:3265\u001b[0m, in \u001b[0;36mPreTrainedTokenizerBase.batch_decode\u001b[1;34m(self, sequences, skip_special_tokens, clean_up_tokenization_spaces, **kwargs)\u001b[0m\n\u001b[0;32m   3242\u001b[0m \u001b[38;5;28;01mdef\u001b[39;00m \u001b[38;5;21mbatch_decode\u001b[39m(\n\u001b[0;32m   3243\u001b[0m     \u001b[38;5;28mself\u001b[39m,\n\u001b[0;32m   3244\u001b[0m     sequences: Union[List[\u001b[38;5;28mint\u001b[39m], List[List[\u001b[38;5;28mint\u001b[39m]], \u001b[38;5;124m\"\u001b[39m\u001b[38;5;124mnp.ndarray\u001b[39m\u001b[38;5;124m\"\u001b[39m, \u001b[38;5;124m\"\u001b[39m\u001b[38;5;124mtorch.Tensor\u001b[39m\u001b[38;5;124m\"\u001b[39m, \u001b[38;5;124m\"\u001b[39m\u001b[38;5;124mtf.Tensor\u001b[39m\u001b[38;5;124m\"\u001b[39m],\n\u001b[1;32m   (...)\u001b[0m\n\u001b[0;32m   3247\u001b[0m     \u001b[38;5;241m*\u001b[39m\u001b[38;5;241m*\u001b[39mkwargs\n\u001b[0;32m   3248\u001b[0m ) \u001b[38;5;241m-\u001b[39m\u001b[38;5;241m>\u001b[39m List[\u001b[38;5;28mstr\u001b[39m]:\n\u001b[0;32m   3249\u001b[0m     \u001b[38;5;124;03m\"\"\"\u001b[39;00m\n\u001b[0;32m   3250\u001b[0m \u001b[38;5;124;03m    Convert a list of lists of token ids into a list of strings by calling decode.\u001b[39;00m\n\u001b[0;32m   3251\u001b[0m \n\u001b[1;32m   (...)\u001b[0m\n\u001b[0;32m   3263\u001b[0m \u001b[38;5;124;03m        `List[str]`: The list of decoded sentences.\u001b[39;00m\n\u001b[0;32m   3264\u001b[0m \u001b[38;5;124;03m    \"\"\"\u001b[39;00m\n\u001b[1;32m-> 3265\u001b[0m     \u001b[38;5;28;01mreturn\u001b[39;00m [\n\u001b[0;32m   3266\u001b[0m         \u001b[38;5;28mself\u001b[39m\u001b[38;5;241m.\u001b[39mdecode(\n\u001b[0;32m   3267\u001b[0m             seq,\n\u001b[0;32m   3268\u001b[0m             skip_special_tokens\u001b[38;5;241m=\u001b[39mskip_special_tokens,\n\u001b[0;32m   3269\u001b[0m             clean_up_tokenization_spaces\u001b[38;5;241m=\u001b[39mclean_up_tokenization_spaces,\n\u001b[0;32m   3270\u001b[0m             \u001b[38;5;241m*\u001b[39m\u001b[38;5;241m*\u001b[39mkwargs,\n\u001b[0;32m   3271\u001b[0m         )\n\u001b[0;32m   3272\u001b[0m         \u001b[38;5;28;01mfor\u001b[39;00m seq \u001b[38;5;129;01min\u001b[39;00m sequences\n\u001b[0;32m   3273\u001b[0m     ]\n",
      "File \u001b[1;32m~\\anaconda3\\envs\\kg\\lib\\site-packages\\transformers\\tokenization_utils_base.py:3266\u001b[0m, in \u001b[0;36m<listcomp>\u001b[1;34m(.0)\u001b[0m\n\u001b[0;32m   3242\u001b[0m \u001b[38;5;28;01mdef\u001b[39;00m \u001b[38;5;21mbatch_decode\u001b[39m(\n\u001b[0;32m   3243\u001b[0m     \u001b[38;5;28mself\u001b[39m,\n\u001b[0;32m   3244\u001b[0m     sequences: Union[List[\u001b[38;5;28mint\u001b[39m], List[List[\u001b[38;5;28mint\u001b[39m]], \u001b[38;5;124m\"\u001b[39m\u001b[38;5;124mnp.ndarray\u001b[39m\u001b[38;5;124m\"\u001b[39m, \u001b[38;5;124m\"\u001b[39m\u001b[38;5;124mtorch.Tensor\u001b[39m\u001b[38;5;124m\"\u001b[39m, \u001b[38;5;124m\"\u001b[39m\u001b[38;5;124mtf.Tensor\u001b[39m\u001b[38;5;124m\"\u001b[39m],\n\u001b[1;32m   (...)\u001b[0m\n\u001b[0;32m   3247\u001b[0m     \u001b[38;5;241m*\u001b[39m\u001b[38;5;241m*\u001b[39mkwargs\n\u001b[0;32m   3248\u001b[0m ) \u001b[38;5;241m-\u001b[39m\u001b[38;5;241m>\u001b[39m List[\u001b[38;5;28mstr\u001b[39m]:\n\u001b[0;32m   3249\u001b[0m     \u001b[38;5;124;03m\"\"\"\u001b[39;00m\n\u001b[0;32m   3250\u001b[0m \u001b[38;5;124;03m    Convert a list of lists of token ids into a list of strings by calling decode.\u001b[39;00m\n\u001b[0;32m   3251\u001b[0m \n\u001b[1;32m   (...)\u001b[0m\n\u001b[0;32m   3263\u001b[0m \u001b[38;5;124;03m        `List[str]`: The list of decoded sentences.\u001b[39;00m\n\u001b[0;32m   3264\u001b[0m \u001b[38;5;124;03m    \"\"\"\u001b[39;00m\n\u001b[0;32m   3265\u001b[0m     \u001b[38;5;28;01mreturn\u001b[39;00m [\n\u001b[1;32m-> 3266\u001b[0m         \u001b[38;5;28mself\u001b[39m\u001b[38;5;241m.\u001b[39mdecode(\n\u001b[0;32m   3267\u001b[0m             seq,\n\u001b[0;32m   3268\u001b[0m             skip_special_tokens\u001b[38;5;241m=\u001b[39mskip_special_tokens,\n\u001b[0;32m   3269\u001b[0m             clean_up_tokenization_spaces\u001b[38;5;241m=\u001b[39mclean_up_tokenization_spaces,\n\u001b[0;32m   3270\u001b[0m             \u001b[38;5;241m*\u001b[39m\u001b[38;5;241m*\u001b[39mkwargs,\n\u001b[0;32m   3271\u001b[0m         )\n\u001b[0;32m   3272\u001b[0m         \u001b[38;5;28;01mfor\u001b[39;00m seq \u001b[38;5;129;01min\u001b[39;00m sequences\n\u001b[0;32m   3273\u001b[0m     ]\n",
      "File \u001b[1;32m~\\anaconda3\\envs\\kg\\lib\\site-packages\\transformers\\tokenization_utils_base.py:3304\u001b[0m, in \u001b[0;36mPreTrainedTokenizerBase.decode\u001b[1;34m(self, token_ids, skip_special_tokens, clean_up_tokenization_spaces, **kwargs)\u001b[0m\n\u001b[0;32m   3301\u001b[0m \u001b[38;5;66;03m# Convert inputs to python lists\u001b[39;00m\n\u001b[0;32m   3302\u001b[0m token_ids \u001b[38;5;241m=\u001b[39m to_py_obj(token_ids)\n\u001b[1;32m-> 3304\u001b[0m \u001b[38;5;28;01mreturn\u001b[39;00m \u001b[38;5;28mself\u001b[39m\u001b[38;5;241m.\u001b[39m_decode(\n\u001b[0;32m   3305\u001b[0m     token_ids\u001b[38;5;241m=\u001b[39mtoken_ids,\n\u001b[0;32m   3306\u001b[0m     skip_special_tokens\u001b[38;5;241m=\u001b[39mskip_special_tokens,\n\u001b[0;32m   3307\u001b[0m     clean_up_tokenization_spaces\u001b[38;5;241m=\u001b[39mclean_up_tokenization_spaces,\n\u001b[0;32m   3308\u001b[0m     \u001b[38;5;241m*\u001b[39m\u001b[38;5;241m*\u001b[39mkwargs,\n\u001b[0;32m   3309\u001b[0m )\n",
      "File \u001b[1;32m~\\anaconda3\\envs\\kg\\lib\\site-packages\\transformers\\tokenization_utils_fast.py:547\u001b[0m, in \u001b[0;36mPreTrainedTokenizerFast._decode\u001b[1;34m(self, token_ids, skip_special_tokens, clean_up_tokenization_spaces, **kwargs)\u001b[0m\n\u001b[0;32m    545\u001b[0m \u001b[38;5;28;01mif\u001b[39;00m \u001b[38;5;28misinstance\u001b[39m(token_ids, \u001b[38;5;28mint\u001b[39m):\n\u001b[0;32m    546\u001b[0m     token_ids \u001b[38;5;241m=\u001b[39m [token_ids]\n\u001b[1;32m--> 547\u001b[0m text \u001b[38;5;241m=\u001b[39m \u001b[38;5;28;43mself\u001b[39;49m\u001b[38;5;241;43m.\u001b[39;49m\u001b[43m_tokenizer\u001b[49m\u001b[38;5;241;43m.\u001b[39;49m\u001b[43mdecode\u001b[49m\u001b[43m(\u001b[49m\u001b[43mtoken_ids\u001b[49m\u001b[43m,\u001b[49m\u001b[43m \u001b[49m\u001b[43mskip_special_tokens\u001b[49m\u001b[38;5;241;43m=\u001b[39;49m\u001b[43mskip_special_tokens\u001b[49m\u001b[43m)\u001b[49m\n\u001b[0;32m    549\u001b[0m \u001b[38;5;28;01mif\u001b[39;00m clean_up_tokenization_spaces:\n\u001b[0;32m    550\u001b[0m     clean_text \u001b[38;5;241m=\u001b[39m \u001b[38;5;28mself\u001b[39m\u001b[38;5;241m.\u001b[39mclean_up_tokenization(text)\n",
      "\u001b[1;31mTypeError\u001b[0m: Can't convert {'output_ids': [[[0, 50267, 2974, 5269, 14555, 1437, 50266, 4612, 1437, 50265, 2034, 11, 5, 6833, 15752, 10014, 1437, 50266, 2809, 1437, 50265, 247, 1437, 50267, 4612, 1437, 50266, 2974, 5269, 14555, 1437, 50265, 6308, 6833, 15752, 10014, 1437, 50266, 2809, 1437, 50265, 247, 2]]]} to Sequence"
     ]
    }
   ],
   "source": [
    "list(doc_list)"
   ]
  },
  {
   "cell_type": "markdown",
   "id": "7f075755-f6b6-4775-bd56-4625f2a321d7",
   "metadata": {},
   "source": [
    "## Graph construction"
   ]
  }
 ],
 "metadata": {
  "kernelspec": {
   "display_name": "Python 3 (ipykernel)",
   "language": "python",
   "name": "python3"
  },
  "language_info": {
   "codemirror_mode": {
    "name": "ipython",
    "version": 3
   },
   "file_extension": ".py",
   "mimetype": "text/x-python",
   "name": "python",
   "nbconvert_exporter": "python",
   "pygments_lexer": "ipython3",
   "version": "3.9.13"
  }
 },
 "nbformat": 4,
 "nbformat_minor": 5
}
