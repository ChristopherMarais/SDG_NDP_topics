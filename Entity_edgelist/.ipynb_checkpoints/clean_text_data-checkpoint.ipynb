{
 "cells": [
  {
   "cell_type": "code",
   "execution_count": 5,
   "id": "87073ab5-c66d-4955-80bd-ea30faf2fb65",
   "metadata": {
    "execution": {
     "iopub.execute_input": "2022-10-14T21:48:43.769471Z",
     "iopub.status.busy": "2022-10-14T21:48:43.768970Z",
     "iopub.status.idle": "2022-10-14T21:48:43.784972Z",
     "shell.execute_reply": "2022-10-14T21:48:43.784470Z",
     "shell.execute_reply.started": "2022-10-14T21:48:43.769471Z"
    },
    "tags": []
   },
   "outputs": [],
   "source": [
    "import os\n",
    "import re\n",
    "import pandas as pd\n",
    "from PyPDF2 import PdfReader"
   ]
  },
  {
   "cell_type": "code",
   "execution_count": 2,
   "id": "f18701d6-6237-4320-aa9d-4a90975389ea",
   "metadata": {
    "execution": {
     "iopub.execute_input": "2022-10-14T21:19:53.255947Z",
     "iopub.status.busy": "2022-10-14T21:19:53.255947Z",
     "iopub.status.idle": "2022-10-14T21:19:53.425014Z",
     "shell.execute_reply": "2022-10-14T21:19:53.424513Z",
     "shell.execute_reply.started": "2022-10-14T21:19:53.255947Z"
    },
    "tags": []
   },
   "outputs": [],
   "source": [
    "pwd = os.getcwd()\n",
    "data_path = os.path.dirname(pwd) + \"\\\\Data\\\\NDPs\\\\\"\n",
    "data_df = pd.read_feather(data_path+\"docs.feather\")\n",
    "\n",
    "data_df = data_df.drop_duplicates().reset_index(drop=True)\n",
    "data_df[\"text\"] = data_df[\"text\"].astype(str)\n",
    "data_df['text'] = data_df['text'].strip()\n",
    "data_df['text'] = data_df['text'].str.split('. \\n')\n",
    "data_df = data_df.explode('text').reset_index(drop=True)"
   ]
  },
  {
   "cell_type": "code",
   "execution_count": 7,
   "id": "1c50ead5-5903-4969-9753-ab7f6e281300",
   "metadata": {
    "execution": {
     "iopub.execute_input": "2022-10-14T22:05:11.451933Z",
     "iopub.status.busy": "2022-10-14T22:05:11.451933Z",
     "iopub.status.idle": "2022-10-14T22:05:11.471435Z",
     "shell.execute_reply": "2022-10-14T22:05:11.470931Z",
     "shell.execute_reply.started": "2022-10-14T22:05:11.451933Z"
    },
    "tags": []
   },
   "outputs": [],
   "source": [
    "str_val = data_df['text'][0].strip()"
   ]
  },
  {
   "cell_type": "code",
   "execution_count": 10,
   "id": "15eaaad1-e15f-457d-b990-34d41e9d8393",
   "metadata": {
    "execution": {
     "iopub.execute_input": "2022-10-14T22:06:16.844711Z",
     "iopub.status.busy": "2022-10-14T22:06:16.844208Z",
     "iopub.status.idle": "2022-10-14T22:06:16.887710Z",
     "shell.execute_reply": "2022-10-14T22:06:16.887209Z",
     "shell.execute_reply.started": "2022-10-14T22:06:16.844711Z"
    },
    "tags": []
   },
   "outputs": [
    {
     "data": {
      "text/plain": [
       "31773"
      ]
     },
     "execution_count": 10,
     "metadata": {},
     "output_type": "execute_result"
    }
   ],
   "source": [
    "len([m.start() for m in re.finditer('. \\n', str_val)])"
   ]
  },
  {
   "cell_type": "code",
   "execution_count": 12,
   "id": "0da2f3d1-7e62-48fd-b00f-2b8e7ec7b02f",
   "metadata": {
    "execution": {
     "iopub.execute_input": "2022-10-14T22:07:00.418375Z",
     "iopub.status.busy": "2022-10-14T22:07:00.417875Z",
     "iopub.status.idle": "2022-10-14T22:07:00.435374Z",
     "shell.execute_reply": "2022-10-14T22:07:00.434375Z",
     "shell.execute_reply.started": "2022-10-14T22:07:00.418375Z"
    },
    "tags": []
   },
   "outputs": [
    {
     "data": {
      "text/plain": [
       "34429"
      ]
     },
     "execution_count": 12,
     "metadata": {},
     "output_type": "execute_result"
    }
   ],
   "source": [
    "len(str_val.split('\\n'))"
   ]
  }
 ],
 "metadata": {
  "kernelspec": {
   "display_name": "Python 3 (ipykernel)",
   "language": "python",
   "name": "python3"
  },
  "language_info": {
   "codemirror_mode": {
    "name": "ipython",
    "version": 3
   },
   "file_extension": ".py",
   "mimetype": "text/x-python",
   "name": "python",
   "nbconvert_exporter": "python",
   "pygments_lexer": "ipython3",
   "version": "3.9.13"
  }
 },
 "nbformat": 4,
 "nbformat_minor": 5
}
