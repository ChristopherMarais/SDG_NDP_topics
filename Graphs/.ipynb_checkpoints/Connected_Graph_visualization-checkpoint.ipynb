{
 "cells": [
  {
   "cell_type": "code",
   "execution_count": 1,
   "id": "40092d4e",
   "metadata": {
    "execution": {
     "iopub.execute_input": "2022-10-10T13:20:56.713679Z",
     "iopub.status.busy": "2022-10-10T13:20:56.713679Z",
     "iopub.status.idle": "2022-10-10T13:20:58.002692Z",
     "shell.execute_reply": "2022-10-10T13:20:58.001702Z",
     "shell.execute_reply.started": "2022-10-10T13:20:56.713679Z"
    },
    "tags": []
   },
   "outputs": [],
   "source": [
    "import pandas as pd\n",
    "import numpy as np\n",
    "import networkx as nx\n",
    "from pyvis.network import Network\n",
    "from sklearn.preprocessing import MinMaxScaler"
   ]
  },
  {
   "cell_type": "code",
   "execution_count": 2,
   "id": "33bcc980",
   "metadata": {
    "execution": {
     "iopub.execute_input": "2022-10-10T13:20:58.004692Z",
     "iopub.status.busy": "2022-10-10T13:20:58.003683Z",
     "iopub.status.idle": "2022-10-10T13:20:58.526692Z",
     "shell.execute_reply": "2022-10-10T13:20:58.525692Z",
     "shell.execute_reply.started": "2022-10-10T13:20:58.004692Z"
    },
    "tags": []
   },
   "outputs": [
    {
     "data": {
      "text/html": [
       "<div>\n",
       "<style scoped>\n",
       "    .dataframe tbody tr th:only-of-type {\n",
       "        vertical-align: middle;\n",
       "    }\n",
       "\n",
       "    .dataframe tbody tr th {\n",
       "        vertical-align: top;\n",
       "    }\n",
       "\n",
       "    .dataframe thead th {\n",
       "        text-align: right;\n",
       "    }\n",
       "</style>\n",
       "<table border=\"1\" class=\"dataframe\">\n",
       "  <thead>\n",
       "    <tr style=\"text-align: right;\">\n",
       "      <th></th>\n",
       "      <th>size</th>\n",
       "      <th>node</th>\n",
       "    </tr>\n",
       "  </thead>\n",
       "  <tbody>\n",
       "    <tr>\n",
       "      <th>0</th>\n",
       "      <td>3.720232</td>\n",
       "      <td>machine learning</td>\n",
       "    </tr>\n",
       "    <tr>\n",
       "      <th>1</th>\n",
       "      <td>3.720232</td>\n",
       "      <td>machine learning</td>\n",
       "    </tr>\n",
       "    <tr>\n",
       "      <th>2</th>\n",
       "      <td>3.720232</td>\n",
       "      <td>machine learning</td>\n",
       "    </tr>\n",
       "    <tr>\n",
       "      <th>3</th>\n",
       "      <td>3.720232</td>\n",
       "      <td>machine learning</td>\n",
       "    </tr>\n",
       "    <tr>\n",
       "      <th>4</th>\n",
       "      <td>3.720232</td>\n",
       "      <td>machine learning</td>\n",
       "    </tr>\n",
       "    <tr>\n",
       "      <th>...</th>\n",
       "      <td>...</td>\n",
       "      <td>...</td>\n",
       "    </tr>\n",
       "    <tr>\n",
       "      <th>75810</th>\n",
       "      <td>1.000000</td>\n",
       "      <td>concrete quality</td>\n",
       "    </tr>\n",
       "    <tr>\n",
       "      <th>75811</th>\n",
       "      <td>1.000000</td>\n",
       "      <td>concrete design</td>\n",
       "    </tr>\n",
       "    <tr>\n",
       "      <th>75812</th>\n",
       "      <td>1.000000</td>\n",
       "      <td>concrete decisions</td>\n",
       "    </tr>\n",
       "    <tr>\n",
       "      <th>75813</th>\n",
       "      <td>1.000000</td>\n",
       "      <td>concordance</td>\n",
       "    </tr>\n",
       "    <tr>\n",
       "      <th>75814</th>\n",
       "      <td>1.000000</td>\n",
       "      <td>ﬁnite state machine</td>\n",
       "    </tr>\n",
       "  </tbody>\n",
       "</table>\n",
       "<p>151628 rows × 2 columns</p>\n",
       "</div>"
      ],
      "text/plain": [
       "           size                 node\n",
       "0      3.720232     machine learning\n",
       "1      3.720232     machine learning\n",
       "2      3.720232     machine learning\n",
       "3      3.720232     machine learning\n",
       "4      3.720232     machine learning\n",
       "...         ...                  ...\n",
       "75810  1.000000     concrete quality\n",
       "75811  1.000000      concrete design\n",
       "75812  1.000000   concrete decisions\n",
       "75813  1.000000          concordance\n",
       "75814  1.000000  ﬁnite state machine\n",
       "\n",
       "[151628 rows x 2 columns]"
      ]
     },
     "execution_count": 2,
     "metadata": {},
     "output_type": "execute_result"
    }
   ],
   "source": [
    "# import edgelist data\n",
    "entity_wel_df = pd.read_csv('entity_weighted_edgelist_ML.csv', index_col=0)\n",
    "entity_wel_df['ent_rel_pair'] = entity_wel_df['head_text'] +' '+entity_wel_df['relation']+' '+entity_wel_df['tail_text']\n",
    "entity_wel_df['head_name'] = entity_wel_df['head_text']+'_'+entity_wel_df['head_wiki_id']\n",
    "entity_wel_df['tail_name'] = entity_wel_df['tail_text']+'_'+entity_wel_df['tail_wiki_id']\n",
    "\n",
    "# node size\n",
    "head_node_weight_df = entity_wel_df.groupby(['head_name']).sum().sort_values('count', ascending=False).reset_index()\n",
    "tail_node_weight_df = entity_wel_df.groupby(['tail_name']).sum().sort_values('count', ascending=False).reset_index()\n",
    "head_node_weight_df = entity_wel_df.merge(head_node_weight_df, left_on=['head_name'], right_on=['head_name'], how='right')\n",
    "tail_node_weight_df = entity_wel_df.merge(tail_node_weight_df, left_on=['tail_name'], right_on=['tail_name'], how='right')\n",
    "head_node_weight_df['node'] = head_node_weight_df['head_text']\n",
    "head_node_weight_df['size'] = head_node_weight_df['count_y']\n",
    "head_node_weight_df = head_node_weight_df[['size','node']]\n",
    "tail_node_weight_df['node'] = tail_node_weight_df['tail_text']\n",
    "tail_node_weight_df['size'] = tail_node_weight_df['count_y']\n",
    "tail_node_weight_df = tail_node_weight_df[['size','node']]\n",
    "node_weight_df = pd.concat([head_node_weight_df, tail_node_weight_df])\n",
    "node_weight_df['size'] = MinMaxScaler(feature_range=(1, 10)).fit_transform(np.array(node_weight_df['size']).reshape(-1,1))\n",
    "node_weight_df"
   ]
  },
  {
   "cell_type": "code",
   "execution_count": 3,
   "id": "7e5872b3",
   "metadata": {
    "execution": {
     "iopub.execute_input": "2022-10-10T13:20:58.527682Z",
     "iopub.status.busy": "2022-10-10T13:20:58.527682Z",
     "iopub.status.idle": "2022-10-10T13:20:59.021677Z",
     "shell.execute_reply": "2022-10-10T13:20:59.020682Z",
     "shell.execute_reply.started": "2022-10-10T13:20:58.527682Z"
    },
    "tags": []
   },
   "outputs": [
    {
     "name": "stdout",
     "output_type": "stream",
     "text": [
      "Local cdn resources have problems on chrome/safari when used in jupyter-notebook. \n"
     ]
    },
    {
     "name": "stderr",
     "output_type": "stream",
     "text": [
      "C:\\Users\\gcmar\\AppData\\Local\\Temp\\ipykernel_88984\\1822068212.py:6: SettingWithCopyWarning: \n",
      "A value is trying to be set on a copy of a slice from a DataFrame\n",
      "\n",
      "See the caveats in the documentation: https://pandas.pydata.org/pandas-docs/stable/user_guide/indexing.html#returning-a-view-versus-a-copy\n",
      "  df.rename(columns={\"count\": \"value\", \"relation\":\"title\"}, inplace=True)\n"
     ]
    },
    {
     "data": {
      "text/html": [
       "\n",
       "        <iframe\n",
       "            width=\"100%\"\n",
       "            height=\"600px\"\n",
       "            src=\"ML_above2edges.html\"\n",
       "            frameborder=\"0\"\n",
       "            allowfullscreen\n",
       "            \n",
       "        ></iframe>\n",
       "        "
      ],
      "text/plain": [
       "<IPython.lib.display.IFrame at 0x20b55fa5eb0>"
      ]
     },
     "execution_count": 3,
     "metadata": {},
     "output_type": "execute_result"
    }
   ],
   "source": [
    "# df = entity_wel_df.iloc[:1000]\n",
    "mention_num = 2\n",
    "entity_wel_df = entity_wel_df[entity_wel_df['head_text'] != 'Elsevier'] # df = df[~df[col].isin([string])]\n",
    "entity_wel_df = entity_wel_df[entity_wel_df['tail_text'] != 'Elsevier']\n",
    "df = entity_wel_df[entity_wel_df['count']>mention_num]\n",
    "df.rename(columns={\"count\": \"value\", \"relation\":\"title\"}, inplace=True)\n",
    "node_lst = df['head_text'].tolist()+df['tail_text'].tolist()\n",
    "node_weight_df = node_weight_df.drop_duplicates(subset='node').reset_index(drop=True)\n",
    "node_weight_df = node_weight_df[node_weight_df['node'].isin(node_lst)]\n",
    "node_attr = node_weight_df.set_index('node').to_dict('index')\n",
    "G = nx.from_pandas_edgelist(df, source='head_text', target='tail_text', edge_attr=['value', 'title'])\n",
    "nx.set_node_attributes(G, node_attr)\n",
    "\n",
    "nt = Network(height=\"750px\", width=\"100%\", notebook=True,directed=True)\n",
    "# populates the nodes and edges data structures\n",
    "nt.from_nx(G)\n",
    "nt.toggle_physics(True)\n",
    "nt.show('ML_above2edges.html')"
   ]
  },
  {
   "cell_type": "code",
   "execution_count": null,
   "id": "127abdb5-1ed0-47d2-836f-f406fa810257",
   "metadata": {},
   "outputs": [],
   "source": []
  }
 ],
 "metadata": {
  "kernelspec": {
   "display_name": "Python 3 (ipykernel)",
   "language": "python",
   "name": "python3"
  },
  "language_info": {
   "codemirror_mode": {
    "name": "ipython",
    "version": 3
   },
   "file_extension": ".py",
   "mimetype": "text/x-python",
   "name": "python",
   "nbconvert_exporter": "python",
   "pygments_lexer": "ipython3",
   "version": "3.9.13"
  }
 },
 "nbformat": 4,
 "nbformat_minor": 5
}
