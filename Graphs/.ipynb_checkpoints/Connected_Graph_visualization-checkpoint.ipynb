{
 "cells": [
  {
   "cell_type": "code",
   "execution_count": 1,
   "id": "40092d4e",
   "metadata": {
    "execution": {
     "iopub.execute_input": "2022-10-14T15:11:45.636930Z",
     "iopub.status.busy": "2022-10-14T15:11:45.636930Z",
     "iopub.status.idle": "2022-10-14T15:11:46.779926Z",
     "shell.execute_reply": "2022-10-14T15:11:46.778923Z",
     "shell.execute_reply.started": "2022-10-14T15:11:45.636930Z"
    },
    "tags": []
   },
   "outputs": [],
   "source": [
    "import pandas as pd\n",
    "import numpy as np\n",
    "import os\n",
    "import networkx as nx\n",
    "from pyvis.network import Network\n",
    "from sklearn.preprocessing import MinMaxScaler"
   ]
  },
  {
   "cell_type": "code",
   "execution_count": 2,
   "id": "aa1cab25-856f-4e21-8008-7df960c17913",
   "metadata": {
    "execution": {
     "iopub.execute_input": "2022-10-14T15:11:46.780925Z",
     "iopub.status.busy": "2022-10-14T15:11:46.780925Z",
     "iopub.status.idle": "2022-10-14T15:11:46.793926Z",
     "shell.execute_reply": "2022-10-14T15:11:46.793926Z",
     "shell.execute_reply.started": "2022-10-14T15:11:46.780925Z"
    }
   },
   "outputs": [],
   "source": [
    "def draw_graph(country_file):\n",
    "    entity_wel_df = pd.read_feather(data_path+\"entity_weighted_edgelist_ALL_\"+country_file+\".feather\")\n",
    "    # import edgelist data\n",
    "    # entity_wel_df = pd.read_csv('entity_weighted_edgelist_ML.csv', index_col=0)\n",
    "    entity_wel_df['ent_rel_pair'] = entity_wel_df['head_text'] +' '+entity_wel_df['relation']+' '+entity_wel_df['tail_text']\n",
    "    entity_wel_df['head_name'] = entity_wel_df['head_text']+'_'+entity_wel_df['head_wiki_id']\n",
    "    entity_wel_df['tail_name'] = entity_wel_df['tail_text']+'_'+entity_wel_df['tail_wiki_id']\n",
    "\n",
    "    # node size\n",
    "    head_node_weight_df = entity_wel_df.groupby(['head_name']).sum().sort_values('count', ascending=False).reset_index()\n",
    "    tail_node_weight_df = entity_wel_df.groupby(['tail_name']).sum().sort_values('count', ascending=False).reset_index()\n",
    "    head_node_weight_df = entity_wel_df.merge(head_node_weight_df, left_on=['head_name'], right_on=['head_name'], how='right')\n",
    "    tail_node_weight_df = entity_wel_df.merge(tail_node_weight_df, left_on=['tail_name'], right_on=['tail_name'], how='right')\n",
    "    head_node_weight_df['node'] = head_node_weight_df['head_text']\n",
    "    head_node_weight_df['size'] = head_node_weight_df['count_y']\n",
    "    head_node_weight_df = head_node_weight_df[['size','node']]\n",
    "    tail_node_weight_df['node'] = tail_node_weight_df['tail_text']\n",
    "    tail_node_weight_df['size'] = tail_node_weight_df['count_y']\n",
    "    tail_node_weight_df = tail_node_weight_df[['size','node']]\n",
    "    node_weight_df = pd.concat([head_node_weight_df, tail_node_weight_df])\n",
    "    node_weight_df['size'] = MinMaxScaler(feature_range=(10, 50)).fit_transform(np.array(node_weight_df['size']).reshape(-1,1))\n",
    "    \n",
    "    \n",
    "    \n",
    "    # df = entity_wel_df.iloc[:1000]\n",
    "    mention_num = 1\n",
    "    # entity_wel_df = entity_wel_df[entity_wel_df['head_text'] != 'Elsevier'] # df = df[~df[col].isin([string])]\n",
    "    # entity_wel_df = entity_wel_df[entity_wel_df['tail_text'] != 'Elsevier']\n",
    "    df = entity_wel_df[entity_wel_df['count']>mention_num]\n",
    "    df.rename(columns={\"count\": \"value\", \"relation\":\"title\"}, inplace=True)\n",
    "    node_lst = df['head_text'].tolist()+df['tail_text'].tolist()\n",
    "    node_weight_df = node_weight_df.drop_duplicates(subset='node').reset_index(drop=True)\n",
    "    node_weight_df = node_weight_df[node_weight_df['node'].isin(node_lst)]\n",
    "    node_attr = node_weight_df.set_index('node').to_dict('index')\n",
    "    G = nx.from_pandas_edgelist(df, source='head_text', target='tail_text', edge_attr=['value', 'title'])\n",
    "    nx.set_node_attributes(G, node_attr)\n",
    "\n",
    "    nt = Network(height=\"1000px\", width=\"100%\", notebook=True,directed=True)\n",
    "    # populates the nodes and edges data structures\n",
    "    nt.from_nx(G)\n",
    "    nt.toggle_physics(True)\n",
    "    nt.show('Graph_network_'+country_file+'.html')\n",
    "    node_weight_df.to_csv('node_weight_'+country_file+'.csv', index=False)\n",
    "    entity_wel_df.to_csv('edge_data_'+country_file+'.csv', index=False)\n",
    "    print(\"Done \"+country_file+'\\n')"
   ]
  },
  {
   "cell_type": "code",
   "execution_count": 3,
   "id": "398bd22f-9308-4915-a853-dc48691eecd9",
   "metadata": {
    "execution": {
     "iopub.execute_input": "2022-10-14T15:11:46.795925Z",
     "iopub.status.busy": "2022-10-14T15:11:46.795925Z",
     "iopub.status.idle": "2022-10-14T15:11:52.830927Z",
     "shell.execute_reply": "2022-10-14T15:11:52.829925Z",
     "shell.execute_reply.started": "2022-10-14T15:11:46.795925Z"
    },
    "tags": []
   },
   "outputs": [
    {
     "name": "stderr",
     "output_type": "stream",
     "text": [
      "C:\\Users\\gcmar\\AppData\\Local\\Temp\\ipykernel_84684\\2363068920.py:30: SettingWithCopyWarning: \n",
      "A value is trying to be set on a copy of a slice from a DataFrame\n",
      "\n",
      "See the caveats in the documentation: https://pandas.pydata.org/pandas-docs/stable/user_guide/indexing.html#returning-a-view-versus-a-copy\n",
      "  df.rename(columns={\"count\": \"value\", \"relation\":\"title\"}, inplace=True)\n"
     ]
    },
    {
     "name": "stdout",
     "output_type": "stream",
     "text": [
      "Local cdn resources have problems on chrome/safari when used in jupyter-notebook. \n",
      "Done Bangladesh MDP\n",
      "\n"
     ]
    },
    {
     "name": "stderr",
     "output_type": "stream",
     "text": [
      "C:\\Users\\gcmar\\AppData\\Local\\Temp\\ipykernel_84684\\2363068920.py:30: SettingWithCopyWarning: \n",
      "A value is trying to be set on a copy of a slice from a DataFrame\n",
      "\n",
      "See the caveats in the documentation: https://pandas.pydata.org/pandas-docs/stable/user_guide/indexing.html#returning-a-view-versus-a-copy\n",
      "  df.rename(columns={\"count\": \"value\", \"relation\":\"title\"}, inplace=True)\n"
     ]
    },
    {
     "name": "stdout",
     "output_type": "stream",
     "text": [
      "Local cdn resources have problems on chrome/safari when used in jupyter-notebook. \n",
      "Done Bangladesh NDP\n",
      "\n"
     ]
    },
    {
     "name": "stderr",
     "output_type": "stream",
     "text": [
      "C:\\Users\\gcmar\\AppData\\Local\\Temp\\ipykernel_84684\\2363068920.py:30: SettingWithCopyWarning: \n",
      "A value is trying to be set on a copy of a slice from a DataFrame\n",
      "\n",
      "See the caveats in the documentation: https://pandas.pydata.org/pandas-docs/stable/user_guide/indexing.html#returning-a-view-versus-a-copy\n",
      "  df.rename(columns={\"count\": \"value\", \"relation\":\"title\"}, inplace=True)\n"
     ]
    },
    {
     "name": "stdout",
     "output_type": "stream",
     "text": [
      "Local cdn resources have problems on chrome/safari when used in jupyter-notebook. \n",
      "Done Bangladesh VNR\n",
      "\n",
      "Botswana NDP  DOES NOT WORK.\n",
      "Local cdn resources have problems on chrome/safari when used in jupyter-notebook. \n",
      "Done Botswana VNR\n",
      "\n",
      "Cameroon MDP  DOES NOT WORK.\n",
      "Local cdn resources have problems on chrome/safari when used in jupyter-notebook. \n",
      "Done Cameroon NDP\n",
      "\n",
      "Local cdn resources have problems on chrome/safari when used in jupyter-notebook. \n"
     ]
    },
    {
     "name": "stderr",
     "output_type": "stream",
     "text": [
      "C:\\Users\\gcmar\\AppData\\Local\\Temp\\ipykernel_84684\\2363068920.py:30: SettingWithCopyWarning: \n",
      "A value is trying to be set on a copy of a slice from a DataFrame\n",
      "\n",
      "See the caveats in the documentation: https://pandas.pydata.org/pandas-docs/stable/user_guide/indexing.html#returning-a-view-versus-a-copy\n",
      "  df.rename(columns={\"count\": \"value\", \"relation\":\"title\"}, inplace=True)\n",
      "C:\\Users\\gcmar\\AppData\\Local\\Temp\\ipykernel_84684\\2363068920.py:30: SettingWithCopyWarning: \n",
      "A value is trying to be set on a copy of a slice from a DataFrame\n",
      "\n",
      "See the caveats in the documentation: https://pandas.pydata.org/pandas-docs/stable/user_guide/indexing.html#returning-a-view-versus-a-copy\n",
      "  df.rename(columns={\"count\": \"value\", \"relation\":\"title\"}, inplace=True)\n",
      "C:\\Users\\gcmar\\AppData\\Local\\Temp\\ipykernel_84684\\2363068920.py:30: SettingWithCopyWarning: \n",
      "A value is trying to be set on a copy of a slice from a DataFrame\n",
      "\n",
      "See the caveats in the documentation: https://pandas.pydata.org/pandas-docs/stable/user_guide/indexing.html#returning-a-view-versus-a-copy\n",
      "  df.rename(columns={\"count\": \"value\", \"relation\":\"title\"}, inplace=True)\n"
     ]
    },
    {
     "name": "stdout",
     "output_type": "stream",
     "text": [
      "Done Eswatini NDP\n",
      "\n",
      "Local cdn resources have problems on chrome/safari when used in jupyter-notebook. \n",
      "Done Eswatini VNR\n",
      "\n",
      "Local cdn resources have problems on chrome/safari when used in jupyter-notebook. \n",
      "Done Gambia NDP\n",
      "\n",
      "Gambia VNR  DOES NOT WORK.\n"
     ]
    },
    {
     "name": "stderr",
     "output_type": "stream",
     "text": [
      "C:\\Users\\gcmar\\AppData\\Local\\Temp\\ipykernel_84684\\2363068920.py:30: SettingWithCopyWarning: \n",
      "A value is trying to be set on a copy of a slice from a DataFrame\n",
      "\n",
      "See the caveats in the documentation: https://pandas.pydata.org/pandas-docs/stable/user_guide/indexing.html#returning-a-view-versus-a-copy\n",
      "  df.rename(columns={\"count\": \"value\", \"relation\":\"title\"}, inplace=True)\n",
      "C:\\Users\\gcmar\\AppData\\Local\\Temp\\ipykernel_84684\\2363068920.py:30: SettingWithCopyWarning: \n",
      "A value is trying to be set on a copy of a slice from a DataFrame\n",
      "\n",
      "See the caveats in the documentation: https://pandas.pydata.org/pandas-docs/stable/user_guide/indexing.html#returning-a-view-versus-a-copy\n",
      "  df.rename(columns={\"count\": \"value\", \"relation\":\"title\"}, inplace=True)\n",
      "C:\\Users\\gcmar\\AppData\\Local\\Temp\\ipykernel_84684\\2363068920.py:30: SettingWithCopyWarning: \n",
      "A value is trying to be set on a copy of a slice from a DataFrame\n",
      "\n",
      "See the caveats in the documentation: https://pandas.pydata.org/pandas-docs/stable/user_guide/indexing.html#returning-a-view-versus-a-copy\n",
      "  df.rename(columns={\"count\": \"value\", \"relation\":\"title\"}, inplace=True)\n"
     ]
    },
    {
     "name": "stdout",
     "output_type": "stream",
     "text": [
      "Local cdn resources have problems on chrome/safari when used in jupyter-notebook. \n",
      "Done Ghana MDP\n",
      "\n",
      "Local cdn resources have problems on chrome/safari when used in jupyter-notebook. \n",
      "Done Ghana NDP\n",
      "\n",
      "Local cdn resources have problems on chrome/safari when used in jupyter-notebook. \n",
      "Done Ghana VNR\n",
      "\n",
      "Kenya MDP  DOES NOT WORK.\n",
      "Kenya NDP  DOES NOT WORK.\n",
      "Kenya VNR  DOES NOT WORK.\n"
     ]
    },
    {
     "name": "stderr",
     "output_type": "stream",
     "text": [
      "C:\\Users\\gcmar\\AppData\\Local\\Temp\\ipykernel_84684\\2363068920.py:30: SettingWithCopyWarning: \n",
      "A value is trying to be set on a copy of a slice from a DataFrame\n",
      "\n",
      "See the caveats in the documentation: https://pandas.pydata.org/pandas-docs/stable/user_guide/indexing.html#returning-a-view-versus-a-copy\n",
      "  df.rename(columns={\"count\": \"value\", \"relation\":\"title\"}, inplace=True)\n",
      "C:\\Users\\gcmar\\AppData\\Local\\Temp\\ipykernel_84684\\2363068920.py:30: SettingWithCopyWarning: \n",
      "A value is trying to be set on a copy of a slice from a DataFrame\n",
      "\n",
      "See the caveats in the documentation: https://pandas.pydata.org/pandas-docs/stable/user_guide/indexing.html#returning-a-view-versus-a-copy\n",
      "  df.rename(columns={\"count\": \"value\", \"relation\":\"title\"}, inplace=True)\n",
      "C:\\Users\\gcmar\\AppData\\Local\\Temp\\ipykernel_84684\\2363068920.py:30: SettingWithCopyWarning: \n",
      "A value is trying to be set on a copy of a slice from a DataFrame\n",
      "\n",
      "See the caveats in the documentation: https://pandas.pydata.org/pandas-docs/stable/user_guide/indexing.html#returning-a-view-versus-a-copy\n",
      "  df.rename(columns={\"count\": \"value\", \"relation\":\"title\"}, inplace=True)\n"
     ]
    },
    {
     "name": "stdout",
     "output_type": "stream",
     "text": [
      "Local cdn resources have problems on chrome/safari when used in jupyter-notebook. \n",
      "Done Lao NDP\n",
      "\n",
      "Local cdn resources have problems on chrome/safari when used in jupyter-notebook. \n"
     ]
    },
    {
     "name": "stderr",
     "output_type": "stream",
     "text": [
      "C:\\Users\\gcmar\\AppData\\Local\\Temp\\ipykernel_84684\\2363068920.py:30: SettingWithCopyWarning: \n",
      "A value is trying to be set on a copy of a slice from a DataFrame\n",
      "\n",
      "See the caveats in the documentation: https://pandas.pydata.org/pandas-docs/stable/user_guide/indexing.html#returning-a-view-versus-a-copy\n",
      "  df.rename(columns={\"count\": \"value\", \"relation\":\"title\"}, inplace=True)\n"
     ]
    },
    {
     "name": "stdout",
     "output_type": "stream",
     "text": [
      "Done Lao VNR\n",
      "\n",
      "Local cdn resources have problems on chrome/safari when used in jupyter-notebook. \n"
     ]
    },
    {
     "name": "stderr",
     "output_type": "stream",
     "text": [
      "C:\\Users\\gcmar\\AppData\\Local\\Temp\\ipykernel_84684\\2363068920.py:30: SettingWithCopyWarning: \n",
      "A value is trying to be set on a copy of a slice from a DataFrame\n",
      "\n",
      "See the caveats in the documentation: https://pandas.pydata.org/pandas-docs/stable/user_guide/indexing.html#returning-a-view-versus-a-copy\n",
      "  df.rename(columns={\"count\": \"value\", \"relation\":\"title\"}, inplace=True)\n"
     ]
    },
    {
     "name": "stdout",
     "output_type": "stream",
     "text": [
      "Done Liberia MDP\n",
      "\n"
     ]
    },
    {
     "name": "stderr",
     "output_type": "stream",
     "text": [
      "C:\\Users\\gcmar\\AppData\\Local\\Temp\\ipykernel_84684\\2363068920.py:30: SettingWithCopyWarning: \n",
      "A value is trying to be set on a copy of a slice from a DataFrame\n",
      "\n",
      "See the caveats in the documentation: https://pandas.pydata.org/pandas-docs/stable/user_guide/indexing.html#returning-a-view-versus-a-copy\n",
      "  df.rename(columns={\"count\": \"value\", \"relation\":\"title\"}, inplace=True)\n"
     ]
    },
    {
     "name": "stdout",
     "output_type": "stream",
     "text": [
      "Local cdn resources have problems on chrome/safari when used in jupyter-notebook. \n",
      "Done Liberia NDP\n",
      "\n"
     ]
    },
    {
     "name": "stderr",
     "output_type": "stream",
     "text": [
      "C:\\Users\\gcmar\\AppData\\Local\\Temp\\ipykernel_84684\\2363068920.py:30: SettingWithCopyWarning: \n",
      "A value is trying to be set on a copy of a slice from a DataFrame\n",
      "\n",
      "See the caveats in the documentation: https://pandas.pydata.org/pandas-docs/stable/user_guide/indexing.html#returning-a-view-versus-a-copy\n",
      "  df.rename(columns={\"count\": \"value\", \"relation\":\"title\"}, inplace=True)\n"
     ]
    },
    {
     "name": "stdout",
     "output_type": "stream",
     "text": [
      "Local cdn resources have problems on chrome/safari when used in jupyter-notebook. \n",
      "Done Liberia VNR\n",
      "\n"
     ]
    },
    {
     "name": "stderr",
     "output_type": "stream",
     "text": [
      "C:\\Users\\gcmar\\AppData\\Local\\Temp\\ipykernel_84684\\2363068920.py:30: SettingWithCopyWarning: \n",
      "A value is trying to be set on a copy of a slice from a DataFrame\n",
      "\n",
      "See the caveats in the documentation: https://pandas.pydata.org/pandas-docs/stable/user_guide/indexing.html#returning-a-view-versus-a-copy\n",
      "  df.rename(columns={\"count\": \"value\", \"relation\":\"title\"}, inplace=True)\n"
     ]
    },
    {
     "name": "stdout",
     "output_type": "stream",
     "text": [
      "Local cdn resources have problems on chrome/safari when used in jupyter-notebook. \n",
      "Done Malawi NDP\n",
      "\n"
     ]
    },
    {
     "name": "stderr",
     "output_type": "stream",
     "text": [
      "C:\\Users\\gcmar\\AppData\\Local\\Temp\\ipykernel_84684\\2363068920.py:30: SettingWithCopyWarning: \n",
      "A value is trying to be set on a copy of a slice from a DataFrame\n",
      "\n",
      "See the caveats in the documentation: https://pandas.pydata.org/pandas-docs/stable/user_guide/indexing.html#returning-a-view-versus-a-copy\n",
      "  df.rename(columns={\"count\": \"value\", \"relation\":\"title\"}, inplace=True)\n"
     ]
    },
    {
     "name": "stdout",
     "output_type": "stream",
     "text": [
      "Local cdn resources have problems on chrome/safari when used in jupyter-notebook. \n",
      "Done Malawi VNR\n",
      "\n",
      "Namibia MDP  DOES NOT WORK.\n",
      "Namibia NDP  DOES NOT WORK.\n",
      "Namibia VNR  DOES NOT WORK.\n",
      "Nigeria NDP  DOES NOT WORK.\n",
      "Nigeria VNR  DOES NOT WORK.\n",
      "Pakistan NDP  DOES NOT WORK.\n",
      "Pakistan VNR  DOES NOT WORK.\n",
      "Rwanda NDP  DOES NOT WORK.\n",
      "Rwanda VNR  DOES NOT WORK.\n",
      "South Africa NDP  DOES NOT WORK.\n",
      "South Africa VNR  DOES NOT WORK.\n",
      "Soutn Africa MDP  DOES NOT WORK.\n",
      "Sri Lanka NDP  DOES NOT WORK.\n",
      "Sri Lanka VNR  DOES NOT WORK.\n",
      "Tanzania MDP  DOES NOT WORK.\n",
      "Tanzania NDP  DOES NOT WORK.\n",
      "Togo NDP  DOES NOT WORK.\n",
      "Togo VNR  DOES NOT WORK.\n",
      "Zambia NDP  DOES NOT WORK.\n",
      "Zambia VNR  DOES NOT WORK.\n",
      "Zimbabwe NDP  DOES NOT WORK.\n",
      "Zimbabwe VNR  DOES NOT WORK.\n"
     ]
    }
   ],
   "source": [
    "pwd = os.getcwd()\n",
    "data_path = os.path.dirname(pwd) + \"\\\\Entity_edgelist\\\\\"\n",
    "file_lst = ['Bangladesh MDP', 'Bangladesh NDP', 'Bangladesh VNR',\n",
    "       'Botswana NDP', 'Botswana VNR', 'Cameroon MDP',\n",
    "       'Cameroon NDP', 'Eswatini NDP', 'Eswatini VNR',\n",
    "       'Gambia NDP', 'Gambia VNR', 'Ghana MDP',\n",
    "       'Ghana NDP', 'Ghana VNR', 'Kenya MDP', 'Kenya NDP',\n",
    "       'Kenya VNR', 'Lao NDP', 'Lao VNR', 'Liberia MDP',\n",
    "       'Liberia NDP', 'Liberia VNR', 'Malawi NDP',\n",
    "       'Malawi VNR', 'Namibia MDP', 'Namibia NDP',\n",
    "       'Namibia VNR', 'Nigeria NDP', 'Nigeria VNR',\n",
    "       'Pakistan NDP', 'Pakistan VNR', 'Rwanda NDP',\n",
    "       'Rwanda VNR', 'South Africa NDP', 'South Africa VNR',\n",
    "       'Soutn Africa MDP', 'Sri Lanka NDP', 'Sri Lanka VNR',\n",
    "       'Tanzania MDP', 'Tanzania NDP', 'Togo NDP',\n",
    "       'Togo VNR', 'Zambia NDP', 'Zambia VNR',\n",
    "       'Zimbabwe NDP', 'Zimbabwe VNR']\n",
    "for i in file_lst:\n",
    "    try:\n",
    "        draw_graph(i)\n",
    "    except:\n",
    "        print(i,\" DOES NOT WORK.\")"
   ]
  },
  {
   "cell_type": "code",
   "execution_count": 4,
   "id": "33bcc980",
   "metadata": {
    "execution": {
     "iopub.execute_input": "2022-10-14T15:11:52.832925Z",
     "iopub.status.busy": "2022-10-14T15:11:52.831926Z",
     "iopub.status.idle": "2022-10-14T15:11:52.845929Z",
     "shell.execute_reply": "2022-10-14T15:11:52.844925Z",
     "shell.execute_reply.started": "2022-10-14T15:11:52.831926Z"
    },
    "tags": []
   },
   "outputs": [],
   "source": [
    "# # import edgelist data\n",
    "# # entity_wel_df = pd.read_csv('entity_weighted_edgelist_ML.csv', index_col=0)\n",
    "# entity_wel_df['ent_rel_pair'] = entity_wel_df['head_text'] +' '+entity_wel_df['relation']+' '+entity_wel_df['tail_text']\n",
    "# entity_wel_df['head_name'] = entity_wel_df['head_text']+'_'+entity_wel_df['head_wiki_id']\n",
    "# entity_wel_df['tail_name'] = entity_wel_df['tail_text']+'_'+entity_wel_df['tail_wiki_id']\n",
    "\n",
    "# # node size\n",
    "# head_node_weight_df = entity_wel_df.groupby(['head_name']).sum().sort_values('count', ascending=False).reset_index()\n",
    "# tail_node_weight_df = entity_wel_df.groupby(['tail_name']).sum().sort_values('count', ascending=False).reset_index()\n",
    "# head_node_weight_df = entity_wel_df.merge(head_node_weight_df, left_on=['head_name'], right_on=['head_name'], how='right')\n",
    "# tail_node_weight_df = entity_wel_df.merge(tail_node_weight_df, left_on=['tail_name'], right_on=['tail_name'], how='right')\n",
    "# head_node_weight_df['node'] = head_node_weight_df['head_text']\n",
    "# head_node_weight_df['size'] = head_node_weight_df['count_y']\n",
    "# head_node_weight_df = head_node_weight_df[['size','node']]\n",
    "# tail_node_weight_df['node'] = tail_node_weight_df['tail_text']\n",
    "# tail_node_weight_df['size'] = tail_node_weight_df['count_y']\n",
    "# tail_node_weight_df = tail_node_weight_df[['size','node']]\n",
    "# node_weight_df = pd.concat([head_node_weight_df, tail_node_weight_df])\n",
    "# node_weight_df['size'] = MinMaxScaler(feature_range=(10, 100)).fit_transform(np.array(node_weight_df['size']).reshape(-1,1))\n",
    "# node_weight_df"
   ]
  },
  {
   "cell_type": "code",
   "execution_count": 5,
   "id": "7e5872b3",
   "metadata": {
    "execution": {
     "iopub.execute_input": "2022-10-14T15:11:52.847929Z",
     "iopub.status.busy": "2022-10-14T15:11:52.846928Z",
     "iopub.status.idle": "2022-10-14T15:11:52.860927Z",
     "shell.execute_reply": "2022-10-14T15:11:52.859927Z",
     "shell.execute_reply.started": "2022-10-14T15:11:52.847929Z"
    },
    "tags": []
   },
   "outputs": [],
   "source": [
    "# # df = entity_wel_df.iloc[:1000]\n",
    "# mention_num = 2\n",
    "# # entity_wel_df = entity_wel_df[entity_wel_df['head_text'] != 'Elsevier'] # df = df[~df[col].isin([string])]\n",
    "# # entity_wel_df = entity_wel_df[entity_wel_df['tail_text'] != 'Elsevier']\n",
    "# df = entity_wel_df[entity_wel_df['count']>mention_num]\n",
    "# df.rename(columns={\"count\": \"value\", \"relation\":\"title\"}, inplace=True)\n",
    "# node_lst = df['head_text'].tolist()+df['tail_text'].tolist()\n",
    "# node_weight_df = node_weight_df.drop_duplicates(subset='node').reset_index(drop=True)\n",
    "# node_weight_df = node_weight_df[node_weight_df['node'].isin(node_lst)]\n",
    "# node_attr = node_weight_df.set_index('node').to_dict('index')\n",
    "# G = nx.from_pandas_edgelist(df, source='head_text', target='tail_text', edge_attr=['value', 'title'])\n",
    "# nx.set_node_attributes(G, node_attr)\n",
    "\n",
    "# nt = Network(height=\"1000px\", width=\"100%\", notebook=True,directed=True)\n",
    "# # populates the nodes and edges data structures\n",
    "# nt.from_nx(G)\n",
    "# nt.toggle_physics(True)\n",
    "# nt.show('ML_above2edges.html')"
   ]
  },
  {
   "cell_type": "code",
   "execution_count": null,
   "id": "127abdb5-1ed0-47d2-836f-f406fa810257",
   "metadata": {},
   "outputs": [],
   "source": []
  }
 ],
 "metadata": {
  "kernelspec": {
   "display_name": "Python 3 (ipykernel)",
   "language": "python",
   "name": "python3"
  },
  "language_info": {
   "codemirror_mode": {
    "name": "ipython",
    "version": 3
   },
   "file_extension": ".py",
   "mimetype": "text/x-python",
   "name": "python",
   "nbconvert_exporter": "python",
   "pygments_lexer": "ipython3",
   "version": "3.9.13"
  }
 },
 "nbformat": 4,
 "nbformat_minor": 5
}
