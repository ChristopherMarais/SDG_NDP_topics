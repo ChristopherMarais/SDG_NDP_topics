{
 "cells": [
  {
   "cell_type": "code",
   "execution_count": 1,
   "id": "40092d4e",
   "metadata": {
    "execution": {
     "iopub.execute_input": "2022-10-02T15:30:44.101102Z",
     "iopub.status.busy": "2022-10-02T15:30:44.100601Z",
     "iopub.status.idle": "2022-10-02T15:30:44.829098Z",
     "shell.execute_reply": "2022-10-02T15:30:44.828598Z",
     "shell.execute_reply.started": "2022-10-02T15:30:44.101102Z"
    },
    "tags": []
   },
   "outputs": [],
   "source": [
    "import pandas as pd\n",
    "import numpy as np\n",
    "import networkx as nx\n",
    "from pyvis.network import Network"
   ]
  },
  {
   "cell_type": "code",
   "execution_count": 2,
   "id": "33bcc980",
   "metadata": {
    "execution": {
     "iopub.execute_input": "2022-10-02T15:30:44.830099Z",
     "iopub.status.busy": "2022-10-02T15:30:44.830099Z",
     "iopub.status.idle": "2022-10-02T15:30:46.037599Z",
     "shell.execute_reply": "2022-10-02T15:30:46.037098Z",
     "shell.execute_reply.started": "2022-10-02T15:30:44.830099Z"
    },
    "tags": []
   },
   "outputs": [],
   "source": [
    "# import edgelist data\n",
    "entity_wel_df = pd.read_csv('entity_weighted_edgelist.csv', index_col=0)\n",
    "entity_wel_df['ent_rel_pair'] = entity_wel_df['head_text'] +' '+entity_wel_df['relation']+' '+entity_wel_df['tail_text']\n",
    "keyword_wel_df = pd.read_csv('keywords_edgelist.csv', index_col=0)\n",
    "og_df = pd.read_csv('scopus_bark_ambrosia_beetles_coref.csv', index_col=0)"
   ]
  },
  {
   "cell_type": "code",
   "execution_count": 8,
   "id": "446e2a26-6749-48b9-8405-84d4e1c1a4d2",
   "metadata": {
    "execution": {
     "iopub.execute_input": "2022-10-02T15:33:58.213961Z",
     "iopub.status.busy": "2022-10-02T15:33:58.213458Z",
     "iopub.status.idle": "2022-10-02T15:33:58.263460Z",
     "shell.execute_reply": "2022-10-02T15:33:58.262956Z",
     "shell.execute_reply.started": "2022-10-02T15:33:58.213961Z"
    },
    "tags": []
   },
   "outputs": [
    {
     "data": {
      "text/html": [
       "<div>\n",
       "<style scoped>\n",
       "    .dataframe tbody tr th:only-of-type {\n",
       "        vertical-align: middle;\n",
       "    }\n",
       "\n",
       "    .dataframe tbody tr th {\n",
       "        vertical-align: top;\n",
       "    }\n",
       "\n",
       "    .dataframe thead th {\n",
       "        text-align: right;\n",
       "    }\n",
       "</style>\n",
       "<table border=\"1\" class=\"dataframe\">\n",
       "  <thead>\n",
       "    <tr style=\"text-align: right;\">\n",
       "      <th></th>\n",
       "      <th>head_text</th>\n",
       "      <th>head_wiki_id</th>\n",
       "      <th>relation</th>\n",
       "      <th>tail_text</th>\n",
       "      <th>tail_wiki_id</th>\n",
       "      <th>count</th>\n",
       "      <th>ent_rel_pair</th>\n",
       "    </tr>\n",
       "  </thead>\n",
       "  <tbody>\n",
       "    <tr>\n",
       "      <th>0</th>\n",
       "      <td>Scolytinae</td>\n",
       "      <td>Q720458</td>\n",
       "      <td>parent taxon</td>\n",
       "      <td>Curculionidae</td>\n",
       "      <td>Q7415384</td>\n",
       "      <td>240</td>\n",
       "      <td>Scolytinae parent taxon Curculionidae</td>\n",
       "    </tr>\n",
       "    <tr>\n",
       "      <th>1</th>\n",
       "      <td>female</td>\n",
       "      <td>Q43445</td>\n",
       "      <td>opposite of</td>\n",
       "      <td>male</td>\n",
       "      <td>Q6581097</td>\n",
       "      <td>109</td>\n",
       "      <td>female opposite of male</td>\n",
       "    </tr>\n",
       "    <tr>\n",
       "      <th>2</th>\n",
       "      <td>Basel</td>\n",
       "      <td>Q78</td>\n",
       "      <td>country</td>\n",
       "      <td>Switzerland</td>\n",
       "      <td>Q39</td>\n",
       "      <td>109</td>\n",
       "      <td>Basel country Switzerland</td>\n",
       "    </tr>\n",
       "    <tr>\n",
       "      <th>3</th>\n",
       "      <td>male</td>\n",
       "      <td>Q6581097</td>\n",
       "      <td>opposite of</td>\n",
       "      <td>female</td>\n",
       "      <td>Q43445</td>\n",
       "      <td>109</td>\n",
       "      <td>male opposite of female</td>\n",
       "    </tr>\n",
       "    <tr>\n",
       "      <th>4</th>\n",
       "      <td>females</td>\n",
       "      <td>Q111905566</td>\n",
       "      <td>opposite of</td>\n",
       "      <td>males</td>\n",
       "      <td>Q6743117</td>\n",
       "      <td>92</td>\n",
       "      <td>females opposite of males</td>\n",
       "    </tr>\n",
       "    <tr>\n",
       "      <th>...</th>\n",
       "      <td>...</td>\n",
       "      <td>...</td>\n",
       "      <td>...</td>\n",
       "      <td>...</td>\n",
       "      <td>...</td>\n",
       "      <td>...</td>\n",
       "      <td>...</td>\n",
       "    </tr>\n",
       "    <tr>\n",
       "      <th>36544</th>\n",
       "      <td>SNPs</td>\n",
       "      <td>Q12694482</td>\n",
       "      <td>part of</td>\n",
       "      <td>genomic</td>\n",
       "      <td>Q222046</td>\n",
       "      <td>1</td>\n",
       "      <td>SNPs part of genomic</td>\n",
       "    </tr>\n",
       "    <tr>\n",
       "      <th>36545</th>\n",
       "      <td>SNP</td>\n",
       "      <td>Q501128</td>\n",
       "      <td>subclass of</td>\n",
       "      <td>genetically differentiated</td>\n",
       "      <td>Q59304611</td>\n",
       "      <td>1</td>\n",
       "      <td>SNP subclass of genetically differentiated</td>\n",
       "    </tr>\n",
       "    <tr>\n",
       "      <th>36546</th>\n",
       "      <td>SNC stressed trees</td>\n",
       "      <td>id-less</td>\n",
       "      <td>subclass of</td>\n",
       "      <td>Swiss needle cast</td>\n",
       "      <td>Q10625790</td>\n",
       "      <td>1</td>\n",
       "      <td>SNC stressed trees subclass of Swiss needle cast</td>\n",
       "    </tr>\n",
       "    <tr>\n",
       "      <th>36547</th>\n",
       "      <td>SNC</td>\n",
       "      <td>Q7590859</td>\n",
       "      <td>subclass of</td>\n",
       "      <td>needle cast</td>\n",
       "      <td>Q7933715</td>\n",
       "      <td>1</td>\n",
       "      <td>SNC subclass of needle cast</td>\n",
       "    </tr>\n",
       "    <tr>\n",
       "      <th>36548</th>\n",
       "      <td>♂/42♀</td>\n",
       "      <td>id-less</td>\n",
       "      <td>said to be the same as</td>\n",
       "      <td>Sex ratio</td>\n",
       "      <td>Q1068155</td>\n",
       "      <td>1</td>\n",
       "      <td>♂/42♀ said to be the same as Sex ratio</td>\n",
       "    </tr>\n",
       "  </tbody>\n",
       "</table>\n",
       "<p>36549 rows × 7 columns</p>\n",
       "</div>"
      ],
      "text/plain": [
       "                head_text head_wiki_id                relation  \\\n",
       "0              Scolytinae      Q720458            parent taxon   \n",
       "1                  female       Q43445             opposite of   \n",
       "2                   Basel          Q78                 country   \n",
       "3                    male     Q6581097             opposite of   \n",
       "4                 females   Q111905566             opposite of   \n",
       "...                   ...          ...                     ...   \n",
       "36544                SNPs    Q12694482                 part of   \n",
       "36545                 SNP      Q501128             subclass of   \n",
       "36546  SNC stressed trees      id-less             subclass of   \n",
       "36547                 SNC     Q7590859             subclass of   \n",
       "36548               ♂/42♀      id-less  said to be the same as   \n",
       "\n",
       "                        tail_text tail_wiki_id  count  \\\n",
       "0                   Curculionidae     Q7415384    240   \n",
       "1                            male     Q6581097    109   \n",
       "2                     Switzerland          Q39    109   \n",
       "3                          female       Q43445    109   \n",
       "4                           males     Q6743117     92   \n",
       "...                           ...          ...    ...   \n",
       "36544                     genomic      Q222046      1   \n",
       "36545  genetically differentiated    Q59304611      1   \n",
       "36546           Swiss needle cast    Q10625790      1   \n",
       "36547                 needle cast     Q7933715      1   \n",
       "36548                   Sex ratio     Q1068155      1   \n",
       "\n",
       "                                           ent_rel_pair  \n",
       "0                 Scolytinae parent taxon Curculionidae  \n",
       "1                               female opposite of male  \n",
       "2                             Basel country Switzerland  \n",
       "3                               male opposite of female  \n",
       "4                             females opposite of males  \n",
       "...                                                 ...  \n",
       "36544                              SNPs part of genomic  \n",
       "36545        SNP subclass of genetically differentiated  \n",
       "36546  SNC stressed trees subclass of Swiss needle cast  \n",
       "36547                       SNC subclass of needle cast  \n",
       "36548            ♂/42♀ said to be the same as Sex ratio  \n",
       "\n",
       "[36549 rows x 7 columns]"
      ]
     },
     "execution_count": 8,
     "metadata": {},
     "output_type": "execute_result"
    }
   ],
   "source": [
    "entity_wel_df"
   ]
  },
  {
   "cell_type": "code",
   "execution_count": 6,
   "id": "7e5872b3",
   "metadata": {
    "execution": {
     "iopub.execute_input": "2022-10-02T15:31:02.357516Z",
     "iopub.status.busy": "2022-10-02T15:31:02.357011Z",
     "iopub.status.idle": "2022-10-02T15:31:02.475010Z",
     "shell.execute_reply": "2022-10-02T15:31:02.474009Z",
     "shell.execute_reply.started": "2022-10-02T15:31:02.357516Z"
    },
    "tags": []
   },
   "outputs": [
    {
     "name": "stdout",
     "output_type": "stream",
     "text": [
      "Local cdn resources have problems on chrome/safari when used in jupyter-notebook. \n"
     ]
    },
    {
     "data": {
      "text/html": [
       "\n",
       "        <iframe\n",
       "            width=\"100%\"\n",
       "            height=\"600px\"\n",
       "            src=\"mygraph.html\"\n",
       "            frameborder=\"0\"\n",
       "            allowfullscreen\n",
       "            \n",
       "        ></iframe>\n",
       "        "
      ],
      "text/plain": [
       "<IPython.lib.display.IFrame at 0x1f084212460>"
      ]
     },
     "execution_count": 6,
     "metadata": {},
     "output_type": "execute_result"
    }
   ],
   "source": [
    "df = entity_wel_df.iloc[:1000]\n",
    "G = nx.from_pandas_edgelist(df, source='head_text', target='tail_text') #, edge_attr='count'\n",
    "nt = Network(notebook=True)\n",
    "# populates the nodes and edges data structures\n",
    "nt.from_nx(G)\n",
    "nt.toggle_physics(True)\n",
    "nt.show('mygraph.html')"
   ]
  },
  {
   "cell_type": "code",
   "execution_count": 7,
   "id": "5eb873e0",
   "metadata": {
    "execution": {
     "iopub.execute_input": "2022-10-02T15:31:14.861995Z",
     "iopub.status.busy": "2022-10-02T15:31:14.861495Z",
     "iopub.status.idle": "2022-10-02T15:31:14.904996Z",
     "shell.execute_reply": "2022-10-02T15:31:14.904495Z",
     "shell.execute_reply.started": "2022-10-02T15:31:14.861995Z"
    },
    "tags": []
   },
   "outputs": [
    {
     "name": "stdout",
     "output_type": "stream",
     "text": [
      "Local cdn resources have problems on chrome/safari when used in jupyter-notebook. \n"
     ]
    },
    {
     "data": {
      "text/html": [
       "\n",
       "        <iframe\n",
       "            width=\"100%\"\n",
       "            height=\"600px\"\n",
       "            src=\"mygraph.html\"\n",
       "            frameborder=\"0\"\n",
       "            allowfullscreen\n",
       "            \n",
       "        ></iframe>\n",
       "        "
      ],
      "text/plain": [
       "<IPython.lib.display.IFrame at 0x1f0863d1ee0>"
      ]
     },
     "execution_count": 7,
     "metadata": {},
     "output_type": "execute_result"
    }
   ],
   "source": [
    "df = keyword_wel_df.iloc[:100]\n",
    "G = nx.from_pandas_edgelist(df, source='head_node', target='tail_node') #, edge_attr='weight'\n",
    "nt = Network(notebook=True)\n",
    "# populates the nodes and edges data structures\n",
    "nt.from_nx(G)\n",
    "nt.toggle_physics(True)\n",
    "nt.show('mygraph.html')"
   ]
  },
  {
   "cell_type": "code",
   "execution_count": null,
   "id": "96824b75-044e-47d5-b5ba-51d6a4abe8f0",
   "metadata": {},
   "outputs": [],
   "source": [
    "# Calculate node weight from connections to node\n",
    "# visualize node weight and type\n",
    "# visualize relationship type and weight"
   ]
  },
  {
   "cell_type": "markdown",
   "id": "f4c30d26",
   "metadata": {},
   "source": [
    "# Explore OG Data"
   ]
  },
  {
   "cell_type": "code",
   "execution_count": 5,
   "id": "39ccc080",
   "metadata": {
    "execution": {
     "iopub.execute_input": "2022-10-02T15:30:46.425346Z",
     "iopub.status.busy": "2022-10-02T15:30:46.424842Z",
     "iopub.status.idle": "2022-10-02T15:30:46.733333Z",
     "shell.execute_reply": "2022-10-02T15:30:46.732831Z",
     "shell.execute_reply.started": "2022-10-02T15:30:46.425346Z"
    },
    "tags": []
   },
   "outputs": [
    {
     "data": {
      "text/plain": [
       "['Authors',\n",
       " 'Author(s) ID',\n",
       " 'Title',\n",
       " 'Year',\n",
       " 'Source title',\n",
       " 'Volume',\n",
       " 'Issue',\n",
       " 'Art. No.',\n",
       " 'Page start',\n",
       " 'Page end',\n",
       " 'Page count',\n",
       " 'Cited by',\n",
       " 'DOI',\n",
       " 'Link',\n",
       " 'Affiliations',\n",
       " 'Authors with affiliations',\n",
       " 'Abstract',\n",
       " 'Author Keywords',\n",
       " 'Index Keywords',\n",
       " 'Molecular Sequence Numbers',\n",
       " 'Chemicals/CAS',\n",
       " 'Tradenames',\n",
       " 'Manufacturers',\n",
       " 'Funding Details',\n",
       " 'Funding Text 1',\n",
       " 'Funding Text 2',\n",
       " 'Funding Text 3',\n",
       " 'Funding Text 4',\n",
       " 'Funding Text 5',\n",
       " 'Funding Text 6',\n",
       " 'Funding Text 7',\n",
       " 'Funding Text 8',\n",
       " 'Funding Text 9',\n",
       " 'Funding Text 10',\n",
       " 'References',\n",
       " 'Correspondence Address',\n",
       " 'Editors',\n",
       " 'Sponsors',\n",
       " 'Publisher',\n",
       " 'Conference name',\n",
       " 'Conference date',\n",
       " 'Conference location',\n",
       " 'Conference code',\n",
       " 'ISSN',\n",
       " 'ISBN',\n",
       " 'CODEN',\n",
       " 'PubMed ID',\n",
       " 'Language of Original Document',\n",
       " 'Abbreviated Source Title',\n",
       " 'Document Type',\n",
       " 'Publication Stage',\n",
       " 'Open Access',\n",
       " 'Source',\n",
       " 'EID',\n",
       " 'Abstract_coref']"
      ]
     },
     "execution_count": 5,
     "metadata": {},
     "output_type": "execute_result"
    }
   ],
   "source": [
    "list(og_df.columns)"
   ]
  }
 ],
 "metadata": {
  "kernelspec": {
   "display_name": "Python 3 (ipykernel)",
   "language": "python",
   "name": "python3"
  },
  "language_info": {
   "codemirror_mode": {
    "name": "ipython",
    "version": 3
   },
   "file_extension": ".py",
   "mimetype": "text/x-python",
   "name": "python",
   "nbconvert_exporter": "python",
   "pygments_lexer": "ipython3",
   "version": "3.9.13"
  }
 },
 "nbformat": 4,
 "nbformat_minor": 5
}
