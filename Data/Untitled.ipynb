{
 "cells": [
  {
   "cell_type": "code",
   "execution_count": 3,
   "id": "43c1f8e1-b939-42aa-b50a-16e97befb75f",
   "metadata": {
    "execution": {
     "iopub.execute_input": "2022-10-15T01:43:19.999637Z",
     "iopub.status.busy": "2022-10-15T01:43:19.999637Z",
     "iopub.status.idle": "2022-10-15T01:43:20.010619Z",
     "shell.execute_reply": "2022-10-15T01:43:20.010619Z",
     "shell.execute_reply.started": "2022-10-15T01:43:19.999637Z"
    },
    "tags": []
   },
   "outputs": [
    {
     "data": {
      "text/plain": [
       "6"
      ]
     },
     "execution_count": 3,
     "metadata": {},
     "output_type": "execute_result"
    }
   ],
   "source": [
    "len(\"dwada adawd ad wada a awd\".split(\" \"))"
   ]
  },
  {
   "cell_type": "code",
   "execution_count": 5,
   "id": "9bf55684-808b-4c6e-9d3f-379229072694",
   "metadata": {
    "execution": {
     "iopub.execute_input": "2022-10-15T01:50:29.438328Z",
     "iopub.status.busy": "2022-10-15T01:50:29.438328Z",
     "iopub.status.idle": "2022-10-15T01:50:29.450326Z",
     "shell.execute_reply": "2022-10-15T01:50:29.449327Z",
     "shell.execute_reply.started": "2022-10-15T01:50:29.438328Z"
    },
    "tags": []
   },
   "outputs": [
    {
     "data": {
      "text/plain": [
       "['dawdad  daw daw dd adw daw da da d ad',\n",
       " 'd wad wa da d ad daw   d waa ddawd ad ad d a d ',\n",
       " ['daw ', 'grseg', 'ljujhl h hpo uh uhou hoh '],\n",
       " 'ad wdwd ad wa da wdaw daw dadw ad d aw da ad wda qawd adw ad ']"
      ]
     },
     "execution_count": 5,
     "metadata": {},
     "output_type": "execute_result"
    }
   ],
   "source": [
    "lst = [\"dawdad  daw daw dd adw daw da da d ad\",\n",
    "\"d wad wa da d ad daw   d waa ddawd ad ad d a d \",\n",
    "\"d awd a ddaw da da ad a ddawwd ad aw dad  daw dwad wad da w\",\n",
    "\"ad wdwd ad wa da wdaw daw dadw ad d aw da ad wda qawd adw ad \"]\n",
    "\n",
    "lst[2] = [\"daw \", \"grseg\", \"ljujhl h hpo uh uhou hoh \"]\n",
    "\n",
    "lst"
   ]
  },
  {
   "cell_type": "code",
   "execution_count": 6,
   "id": "ba22a1a3-a8af-4750-8618-3b398371b25e",
   "metadata": {
    "execution": {
     "iopub.execute_input": "2022-10-15T01:50:30.755739Z",
     "iopub.status.busy": "2022-10-15T01:50:30.755739Z",
     "iopub.status.idle": "2022-10-15T01:50:30.766735Z",
     "shell.execute_reply": "2022-10-15T01:50:30.765730Z",
     "shell.execute_reply.started": "2022-10-15T01:50:30.755739Z"
    }
   },
   "outputs": [
    {
     "data": {
      "text/plain": [
       "['d',\n",
       " 'a',\n",
       " 'w',\n",
       " 'd',\n",
       " 'a',\n",
       " 'd',\n",
       " ' ',\n",
       " ' ',\n",
       " 'd',\n",
       " 'a',\n",
       " 'w',\n",
       " ' ',\n",
       " 'd',\n",
       " 'a',\n",
       " 'w',\n",
       " ' ',\n",
       " 'd',\n",
       " 'd',\n",
       " ' ',\n",
       " 'a',\n",
       " 'd',\n",
       " 'w',\n",
       " ' ',\n",
       " 'd',\n",
       " 'a',\n",
       " 'w',\n",
       " ' ',\n",
       " 'd',\n",
       " 'a',\n",
       " ' ',\n",
       " 'd',\n",
       " 'a',\n",
       " ' ',\n",
       " 'd',\n",
       " ' ',\n",
       " 'a',\n",
       " 'd',\n",
       " 'd',\n",
       " ' ',\n",
       " 'w',\n",
       " 'a',\n",
       " 'd',\n",
       " ' ',\n",
       " 'w',\n",
       " 'a',\n",
       " ' ',\n",
       " 'd',\n",
       " 'a',\n",
       " ' ',\n",
       " 'd',\n",
       " ' ',\n",
       " 'a',\n",
       " 'd',\n",
       " ' ',\n",
       " 'd',\n",
       " 'a',\n",
       " 'w',\n",
       " ' ',\n",
       " ' ',\n",
       " ' ',\n",
       " 'd',\n",
       " ' ',\n",
       " 'w',\n",
       " 'a',\n",
       " 'a',\n",
       " ' ',\n",
       " 'd',\n",
       " 'd',\n",
       " 'a',\n",
       " 'w',\n",
       " 'd',\n",
       " ' ',\n",
       " 'a',\n",
       " 'd',\n",
       " ' ',\n",
       " 'a',\n",
       " 'd',\n",
       " ' ',\n",
       " 'd',\n",
       " ' ',\n",
       " 'a',\n",
       " ' ',\n",
       " 'd',\n",
       " ' ',\n",
       " 'daw ',\n",
       " 'grseg',\n",
       " 'ljujhl h hpo uh uhou hoh ',\n",
       " 'a',\n",
       " 'd',\n",
       " ' ',\n",
       " 'w',\n",
       " 'd',\n",
       " 'w',\n",
       " 'd',\n",
       " ' ',\n",
       " 'a',\n",
       " 'd',\n",
       " ' ',\n",
       " 'w',\n",
       " 'a',\n",
       " ' ',\n",
       " 'd',\n",
       " 'a',\n",
       " ' ',\n",
       " 'w',\n",
       " 'd',\n",
       " 'a',\n",
       " 'w',\n",
       " ' ',\n",
       " 'd',\n",
       " 'a',\n",
       " 'w',\n",
       " ' ',\n",
       " 'd',\n",
       " 'a',\n",
       " 'd',\n",
       " 'w',\n",
       " ' ',\n",
       " 'a',\n",
       " 'd',\n",
       " ' ',\n",
       " 'd',\n",
       " ' ',\n",
       " 'a',\n",
       " 'w',\n",
       " ' ',\n",
       " 'd',\n",
       " 'a',\n",
       " ' ',\n",
       " 'a',\n",
       " 'd',\n",
       " ' ',\n",
       " 'w',\n",
       " 'd',\n",
       " 'a',\n",
       " ' ',\n",
       " 'q',\n",
       " 'a',\n",
       " 'w',\n",
       " 'd',\n",
       " ' ',\n",
       " 'a',\n",
       " 'd',\n",
       " 'w',\n",
       " ' ',\n",
       " 'a',\n",
       " 'd',\n",
       " ' ']"
      ]
     },
     "execution_count": 6,
     "metadata": {},
     "output_type": "execute_result"
    }
   ],
   "source": [
    "[item for sublist in lst for item in sublist]"
   ]
  },
  {
   "cell_type": "code",
   "execution_count": null,
   "id": "ad92b2d0-22db-41c3-af48-22755dc63873",
   "metadata": {},
   "outputs": [],
   "source": []
  }
 ],
 "metadata": {
  "kernelspec": {
   "display_name": "Python 3 (ipykernel)",
   "language": "python",
   "name": "python3"
  },
  "language_info": {
   "codemirror_mode": {
    "name": "ipython",
    "version": 3
   },
   "file_extension": ".py",
   "mimetype": "text/x-python",
   "name": "python",
   "nbconvert_exporter": "python",
   "pygments_lexer": "ipython3",
   "version": "3.9.13"
  }
 },
 "nbformat": 4,
 "nbformat_minor": 5
}
