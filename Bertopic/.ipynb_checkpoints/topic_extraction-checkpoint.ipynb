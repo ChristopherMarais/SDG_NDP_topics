{
 "cells": [
  {
   "cell_type": "code",
   "execution_count": null,
   "id": "e6e331b6-e00f-4592-b44b-ef5031439bad",
   "metadata": {
    "execution": {
     "iopub.execute_input": "2022-10-01T16:53:14.142433Z",
     "iopub.status.busy": "2022-10-01T16:53:14.142433Z"
    },
    "tags": []
   },
   "outputs": [],
   "source": [
    "from bertopic import BERTopic\n",
    "import pandas as pd\n",
    "import numpy as np\n",
    "from sklearn.datasets import fetch_20newsgroups"
   ]
  },
  {
   "cell_type": "code",
   "execution_count": null,
   "id": "81c62921-cb96-457d-9d9e-6359f5761be5",
   "metadata": {
    "tags": []
   },
   "outputs": [],
   "source": [
    "# import data\n",
    "data_df = pd.read_csv('C:\\\\Users\\\\gcmar\\\\Desktop\\\\GIT_REPOS\\\\LAB\\\\Literature_summary\\\\Papers\\\\scopus_bark_ambrosia_beetles.csv')\n",
    "data_df['text'] = data_df['Title'].apply(str) + data_df['Author Keywords'].apply(str) + data_df['Index Keywords'].apply(str) + data_df['Abstract'].apply(str) \n",
    "data_df['topic_text'] = data_df['Title'].apply(str) + data_df['Author Keywords'].apply(str) + data_df['Index Keywords'].apply(str)\n",
    "docs = data_df['text'].dropna().tolist()\n",
    "topic_docs = data_df['topic_text'].dropna().tolist()"
   ]
  },
  {
   "cell_type": "code",
   "execution_count": null,
   "id": "580982bc-b186-4370-bb2d-ac16d1db2421",
   "metadata": {
    "tags": []
   },
   "outputs": [],
   "source": [
    "model = BERTopic(embedding_model=\"all-mpnet-base-v2\", nr_topics=\"auto\", top_n_words=15) #\"xlm-r-bert-base-nli-stsb-mean-tokens\""
   ]
  },
  {
   "cell_type": "markdown",
   "id": "58379d03-9447-4289-a3a2-a06679f1a960",
   "metadata": {},
   "source": [
    "#### Topics per doc"
   ]
  },
  {
   "cell_type": "code",
   "execution_count": null,
   "id": "cb5736b4-1ad8-4da6-b4aa-54959a4990da",
   "metadata": {},
   "outputs": [],
   "source": [
    "topics, probabilities = model.fit_transform(docs)"
   ]
  },
  {
   "cell_type": "code",
   "execution_count": null,
   "id": "d971540b-e7cc-460e-97ae-26d9f7c6c69b",
   "metadata": {
    "tags": []
   },
   "outputs": [],
   "source": [
    "data_df['topic'] = topics\n",
    "data_df['topic_prob'] = probabilities.tolist()\n",
    "\n",
    "# add topic words column\n",
    "topic_df = pd.DataFrame(np.array(list(model.topic_representations_.values()))[:,:,0])\n",
    "topic_df['topic_words'] = topic_df[topic_df.columns].apply(lambda row: ' '.join(row.values.astype(str)), axis=1)\n",
    "topic_df['topic'] = list(model.topic_representations_)\n",
    "topic_df['topic_words'][0] = None\n",
    "topic_df = topic_df[['topic', 'topic_words']]\n",
    "data_df.merge(topic_df,how='left', on='topic')"
   ]
  },
  {
   "cell_type": "code",
   "execution_count": null,
   "id": "9d52122e-7c6e-4bf0-a82b-29678cf6633a",
   "metadata": {
    "tags": []
   },
   "outputs": [],
   "source": [
    "data_df.to_csv('papers_bertopic.csv', index=False)"
   ]
  },
  {
   "cell_type": "code",
   "execution_count": null,
   "id": "9641b938-7ad3-4d8a-ab2f-d4d4bdd0b69f",
   "metadata": {
    "tags": []
   },
   "outputs": [],
   "source": [
    "model.get_topic_info()"
   ]
  },
  {
   "cell_type": "code",
   "execution_count": null,
   "id": "81a5e64c-44ff-452e-9b36-f6e8c3d7122d",
   "metadata": {
    "tags": []
   },
   "outputs": [],
   "source": [
    "fig = model.visualize_topics()\n",
    "fig.write_html(\"topics_viz.html\")"
   ]
  },
  {
   "cell_type": "markdown",
   "id": "eb4a8d8d-e80d-4071-8c07-bf57b445a4cf",
   "metadata": {},
   "source": [
    "#### Topics over time"
   ]
  },
  {
   "cell_type": "code",
   "execution_count": null,
   "id": "ea007dd1-f398-421a-9598-572d3a225864",
   "metadata": {
    "tags": []
   },
   "outputs": [],
   "source": [
    "topics_over_time = model.topics_over_time(docs, timestamps=data_df['Year'].tolist())"
   ]
  },
  {
   "cell_type": "code",
   "execution_count": null,
   "id": "f595e49c-6093-4cbc-9374-32af8f47a695",
   "metadata": {
    "tags": []
   },
   "outputs": [],
   "source": [
    "fig = model.visualize_topics_over_time(topics_over_time)\n",
    "fig.write_html(\"topics_over_time.html\")"
   ]
  },
  {
   "cell_type": "markdown",
   "id": "28348b13-f9b0-4e54-a6a3-f0cd26f5ee3d",
   "metadata": {},
   "source": [
    "#### Multiple topics"
   ]
  },
  {
   "cell_type": "code",
   "execution_count": null,
   "id": "63274f84-a50a-424a-a2cb-b10a0cc80606",
   "metadata": {
    "tags": []
   },
   "outputs": [],
   "source": [
    "model = BERTopic(embedding_model=\"all-mpnet-base-v2\", nr_topics=\"auto\", top_n_words=5) #\"xlm-r-bert-base-nli-stsb-mean-tokens\""
   ]
  },
  {
   "cell_type": "code",
   "execution_count": null,
   "id": "042d7544-e4d0-42d0-9751-06897e7e998d",
   "metadata": {
    "tags": []
   },
   "outputs": [],
   "source": [
    "num_repeats = 5\n",
    "for i in range(num_repeats):\n",
    "    topics, probabilities = model.fit_transform(docs)\n",
    "    data_df['topic_'+str(i)] = topics\n",
    "    data_df['topic_prob_'+str(i)] = probabilities.tolist()\n",
    "\n",
    "    # add topic words column\n",
    "    topic_df = pd.DataFrame(np.array(list(model.topic_representations_.values()))[:,:,0])\n",
    "    topic_df['topic_words_'+str(i)] = topic_df[topic_df.columns].apply(lambda row: ' '.join(row.values.astype(str)), axis=1)\n",
    "    topic_df['topic'] = list(model.topic_representations_)\n",
    "    topic_df['topic_words_'+str(i)][0] = None\n",
    "    topic_df = topic_df[['topic', 'topic_words_'+str(i)]]\n",
    "    data_df = data_df.merge(topic_df,how='left', left_on='topic_'+str(i), right_on='topic')"
   ]
  },
  {
   "cell_type": "code",
   "execution_count": null,
   "id": "92f85d69-2bd2-43db-ae42-e59e46097bf0",
   "metadata": {
    "tags": []
   },
   "outputs": [],
   "source": [
    "data_df.to_csv('papers_bertopics_multi.csv', index=False)"
   ]
  },
  {
   "cell_type": "code",
   "execution_count": null,
   "id": "4b55b5cd-44b0-45e1-84e8-c6a58dd823de",
   "metadata": {},
   "outputs": [],
   "source": [
    "data_df"
   ]
  }
 ],
 "metadata": {
  "kernelspec": {
   "display_name": "Python 3 (ipykernel)",
   "language": "python",
   "name": "python3"
  },
  "language_info": {
   "codemirror_mode": {
    "name": "ipython",
    "version": 3
   },
   "file_extension": ".py",
   "mimetype": "text/x-python",
   "name": "python",
   "nbconvert_exporter": "python",
   "pygments_lexer": "ipython3",
   "version": "3.9.13"
  }
 },
 "nbformat": 4,
 "nbformat_minor": 5
}
